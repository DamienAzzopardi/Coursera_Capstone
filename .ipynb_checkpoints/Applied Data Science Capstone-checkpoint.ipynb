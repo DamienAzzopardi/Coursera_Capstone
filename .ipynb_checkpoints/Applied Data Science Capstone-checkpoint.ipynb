{
 "cells": [
  {
   "cell_type": "markdown",
   "id": "cecf16ef",
   "metadata": {},
   "source": [
    "## IBM Data Science\n",
    "### Applied Data Science Capstone\n",
    "\n",
    "Damien Azzopardi - July 2021"
   ]
  },
  {
   "cell_type": "markdown",
   "id": "7fc6fa82",
   "metadata": {},
   "source": [
    "## Table of Contents\n",
    "\n",
    "<div class=\"alert alert-block alert-info\" style=\"margin-top: 20px\">\n",
    "<font size = 2>\n",
    "    \n",
    "1.  <a href=\"#assignment_1\">Assignment 1: Capstone Project Notebook</a>\n",
    "    \n",
    "2.  <a href=\"#assignment_2\">Assignment 2: Segmenting and Clustering Neighborhoods in Toronto</a>\n",
    "    \n",
    "3.  <a href=\"#assignment_3\">Assignment 3: The Battle of Neighborhoods (Week 1)</a>\n",
    "    \n",
    "4.  <a href=\"#assignment_4\">Assignment 4: The Battle of Neighborhoods (Week 2)</a>\n",
    "    \n",
    "</font>\n",
    "</div>"
   ]
  },
  {
   "cell_type": "markdown",
   "id": "d5a64c61",
   "metadata": {},
   "source": [
    "<h3 id=\"assignment_1\">Assignment 1: Capstone Project Notebook</h3>"
   ]
  },
  {
   "cell_type": "code",
   "execution_count": 1,
   "id": "9d7d9cb5",
   "metadata": {},
   "outputs": [],
   "source": [
    "# load libraries\n",
    "import pandas as pd\n",
    "import numpy as np"
   ]
  },
  {
   "cell_type": "code",
   "execution_count": 2,
   "id": "98c8bad0",
   "metadata": {},
   "outputs": [
    {
     "name": "stdout",
     "output_type": "stream",
     "text": [
      "Hello Capstone Project Course!\n"
     ]
    }
   ],
   "source": [
    "print(\"Hello Capstone Project Course!\")"
   ]
  },
  {
   "cell_type": "markdown",
   "id": "6dd21c6c",
   "metadata": {},
   "source": [
    "<h3 id=\"assignment_2\">Assignment 2: Segmenting and Clustering Neighborhoods in Toronto</h3>"
   ]
  },
  {
   "cell_type": "code",
   "execution_count": 3,
   "id": "718c793f",
   "metadata": {},
   "outputs": [],
   "source": [
    "# load libraries\n",
    "import requests\n",
    "from bs4 import BeautifulSoup"
   ]
  },
  {
   "cell_type": "code",
   "execution_count": 4,
   "id": "4883535d",
   "metadata": {},
   "outputs": [],
   "source": [
    "# scrap Toronto postal codes and create a data frame containing 'PostalCode', 'Borough' and 'Neighborhood'\n",
    "url = 'https://en.wikipedia.org/wiki/List_of_postal_codes_of_Canada:_M'\n",
    "data = requests.get(url).text\n",
    "soup = BeautifulSoup(data, 'lxml')\n",
    "\n",
    "table_contents = []\n",
    "table = soup.find('table')\n",
    "for row in table.findAll('td'):\n",
    "    cell = {}\n",
    "    # Ignore cells with a borough that is 'Not assigned'\n",
    "    if row.span.text == 'Not assigned':\n",
    "        pass\n",
    "    else:\n",
    "        cell['PostalCode'] = row.p.text[:3]\n",
    "        cell['Borough'] = (row.span.text).split('(')[0]\n",
    "        cell['Neighborhood'] = (((((row.span.text).split('(')[1]).strip(')')).replace(' /',',')).replace(')',' ')).strip(' ')\n",
    "        table_contents.append(cell)\n",
    "\n",
    "df = pd.DataFrame(table_contents)\n",
    "# clean 'Borough' names\n",
    "df['Borough'] = df['Borough'].replace({'Downtown TorontoStn A PO Boxes25 The Esplanade':'Downtown Toronto Stn A',\n",
    "                                             'East TorontoBusiness reply mail Processing Centre969 Eastern':'East Toronto Business',\n",
    "                                             'EtobicokeNorthwest':'Etobicoke Northwest','East YorkEast Toronto':'East York/East Toronto',\n",
    "                                             'MississaugaCanada Post Gateway Processing Centre':'Mississauga'})"
   ]
  },
  {
   "cell_type": "code",
   "execution_count": 5,
   "id": "307de597",
   "metadata": {},
   "outputs": [
    {
     "data": {
      "text/html": [
       "<div>\n",
       "<style scoped>\n",
       "    .dataframe tbody tr th:only-of-type {\n",
       "        vertical-align: middle;\n",
       "    }\n",
       "\n",
       "    .dataframe tbody tr th {\n",
       "        vertical-align: top;\n",
       "    }\n",
       "\n",
       "    .dataframe thead th {\n",
       "        text-align: right;\n",
       "    }\n",
       "</style>\n",
       "<table border=\"1\" class=\"dataframe\">\n",
       "  <thead>\n",
       "    <tr style=\"text-align: right;\">\n",
       "      <th></th>\n",
       "      <th>PostalCode</th>\n",
       "      <th>Borough</th>\n",
       "      <th>Neighborhood</th>\n",
       "    </tr>\n",
       "  </thead>\n",
       "  <tbody>\n",
       "    <tr>\n",
       "      <th>0</th>\n",
       "      <td>M3A</td>\n",
       "      <td>North York</td>\n",
       "      <td>Parkwoods</td>\n",
       "    </tr>\n",
       "    <tr>\n",
       "      <th>1</th>\n",
       "      <td>M4A</td>\n",
       "      <td>North York</td>\n",
       "      <td>Victoria Village</td>\n",
       "    </tr>\n",
       "    <tr>\n",
       "      <th>2</th>\n",
       "      <td>M5A</td>\n",
       "      <td>Downtown Toronto</td>\n",
       "      <td>Regent Park, Harbourfront</td>\n",
       "    </tr>\n",
       "    <tr>\n",
       "      <th>3</th>\n",
       "      <td>M6A</td>\n",
       "      <td>North York</td>\n",
       "      <td>Lawrence Manor, Lawrence Heights</td>\n",
       "    </tr>\n",
       "    <tr>\n",
       "      <th>4</th>\n",
       "      <td>M7A</td>\n",
       "      <td>Queen's Park</td>\n",
       "      <td>Ontario Provincial Government</td>\n",
       "    </tr>\n",
       "  </tbody>\n",
       "</table>\n",
       "</div>"
      ],
      "text/plain": [
       "  PostalCode           Borough                      Neighborhood\n",
       "0        M3A        North York                         Parkwoods\n",
       "1        M4A        North York                  Victoria Village\n",
       "2        M5A  Downtown Toronto         Regent Park, Harbourfront\n",
       "3        M6A        North York  Lawrence Manor, Lawrence Heights\n",
       "4        M7A      Queen's Park     Ontario Provincial Government"
      ]
     },
     "execution_count": 5,
     "metadata": {},
     "output_type": "execute_result"
    }
   ],
   "source": [
    "df.head()"
   ]
  },
  {
   "cell_type": "code",
   "execution_count": 6,
   "id": "e8456caa",
   "metadata": {},
   "outputs": [
    {
     "data": {
      "text/plain": [
       "(103, 3)"
      ]
     },
     "execution_count": 6,
     "metadata": {},
     "output_type": "execute_result"
    }
   ],
   "source": [
    "df.shape"
   ]
  },
  {
   "cell_type": "markdown",
   "id": "8208a660",
   "metadata": {},
   "source": [
    "<h3 id=\"assignment_3\">Assignment 3: The Battle of Neighborhoods (Week 1)</h3>"
   ]
  },
  {
   "cell_type": "code",
   "execution_count": null,
   "id": "8ac1f8a5",
   "metadata": {},
   "outputs": [],
   "source": []
  },
  {
   "cell_type": "markdown",
   "id": "510fe80b",
   "metadata": {},
   "source": [
    "<h3 id=\"assignment_4\">Assignment 4: The Battle of Neighborhoods (Week 2)</h3>"
   ]
  },
  {
   "cell_type": "code",
   "execution_count": null,
   "id": "6ff99be8",
   "metadata": {},
   "outputs": [],
   "source": []
  }
 ],
 "metadata": {
  "kernelspec": {
   "display_name": "Python 3",
   "language": "python",
   "name": "python3"
  },
  "language_info": {
   "codemirror_mode": {
    "name": "ipython",
    "version": 3
   },
   "file_extension": ".py",
   "mimetype": "text/x-python",
   "name": "python",
   "nbconvert_exporter": "python",
   "pygments_lexer": "ipython3",
   "version": "3.8.8"
  }
 },
 "nbformat": 4,
 "nbformat_minor": 5
}
