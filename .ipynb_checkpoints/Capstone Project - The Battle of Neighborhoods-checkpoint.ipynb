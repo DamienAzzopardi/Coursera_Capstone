{
 "cells": [
  {
   "cell_type": "markdown",
   "id": "7d264440",
   "metadata": {},
   "source": [
    "## IBM Data Science Professional Certificate\n",
    "### Capstone Project - The Battle of Neighborhoods\n",
    "\n",
    "Damien Azzopardi - July 2021"
   ]
  },
  {
   "cell_type": "markdown",
   "id": "b3cafbd9",
   "metadata": {},
   "source": [
    "<h2>Table of Contents</h2>\n",
    "\n",
    "<ol>\n",
    "    <li><a href=\"#introduction\"><b>Introduction</b></a>\n",
    "        <ul>\n",
    "            <li><a href=\"#business_problem\">Business Problem</a>          \n",
    "        </ul>\n",
    "<br>\n",
    "<br>\n",
    "    <li><a href=\"#data\"><b>Data</b></a></li>\n",
    "        <ul>\n",
    "            <li><a href=\"#data_1\">Data 1</a>     \n",
    "        </ul>\n",
    "<hr>"
   ]
  },
  {
   "cell_type": "markdown",
   "id": "a87dbacd",
   "metadata": {},
   "source": [
    "<h2 id=\"introduction\">Introduction</h2>"
   ]
  },
  {
   "cell_type": "markdown",
   "id": "feb5d4d6",
   "metadata": {},
   "source": [
    "Clearly define a problem or an idea of your choice, where you would need to leverage the Foursquare location data to solve or execute. Remember that data science problems always target an audience and are meant to help a group of stakeholders solve a problem, so make sure that you explicitly describe your audience and why they would care about your problem."
   ]
  },
  {
   "cell_type": "markdown",
   "id": "11c45fd4",
   "metadata": {},
   "source": [
    "<h3 id=\"business_problem\">Business Problem</h3>"
   ]
  },
  {
   "cell_type": "markdown",
   "id": "c3ab4f1c",
   "metadata": {},
   "source": [
    "XXX"
   ]
  },
  {
   "cell_type": "markdown",
   "id": "a0ee3c96",
   "metadata": {},
   "source": [
    "<h2 id=\"data\">Data</h2>"
   ]
  },
  {
   "cell_type": "markdown",
   "id": "161030aa",
   "metadata": {},
   "source": [
    "Describe the data that you will be using to solve the problem or execute your idea. Remember that you will need to use the Foursquare location data to solve the problem or execute your idea. You can absolutely use other datasets in combination with the Foursquare location data. So make sure that you provide adequate explanation and discussion, with examples, of the data that you will be using, even if it is only Foursquare location data.\n",
    "\n",
    "- **Neighborhoods list**:\n",
    "The data containing the list of neighborhoods in Barcelona is coming from the [Districts of Barcelona Wikipedia page](https://en.wikipedia.org/wiki/Districts_of_Barcelona). The data manipulation required in order to scrap and get the list of neighborhoods in the proper format will be done directly in the workbook.\n",
    "\n",
    "\n",
    "- **Neighborhoods coordinates**:\n",
    "\n",
    "https://data.metabolismofcities.org/library/maps/577245/view/\n",
    "\n",
    "https://data.metabolismofcities.org/referencespaces/view/577264/\n",
    "\n",
    "XXX\n",
    "\n",
    "- **Foursquare**:"
   ]
  },
  {
   "cell_type": "markdown",
   "id": "80025571",
   "metadata": {},
   "source": [
    "<h2 id=\"xxx\">Segmenting and Clustering Neighborhoods in Barcelona</h2>"
   ]
  },
  {
   "cell_type": "markdown",
   "id": "c5d9b76a",
   "metadata": {},
   "source": [
    "### Data extraction and manipulation"
   ]
  },
  {
   "cell_type": "code",
   "execution_count": 1,
   "id": "476a1f4e",
   "metadata": {},
   "outputs": [],
   "source": [
    "# load libraries\n",
    "import pandas as pd\n",
    "import numpy as np\n",
    "import requests\n",
    "from bs4 import BeautifulSoup\n",
    "#!conda install -c conda-forge geopy --yes\n",
    "from geopy.geocoders import Nominatim\n",
    "from pandas.io.json import json_normalize\n",
    "import matplotlib.cm as cm\n",
    "import matplotlib.colors as colors\n",
    "from sklearn.cluster import KMeans\n",
    "import folium"
   ]
  },
  {
   "cell_type": "markdown",
   "id": "0aa13f30",
   "metadata": {},
   "source": [
    "<h3 id=\"xxx\">1. Scrap Barcelona's neighborhoods and coordinates</h3>\n",
    "\n",
    "The full list of Barcelona's neighborhoods, along with their corresponding coordinates is available in [this Metabolism of Cities page](https://data.metabolismofcities.org/library/maps/577245/view/)."
   ]
  },
  {
   "cell_type": "code",
   "execution_count": 176,
   "id": "9d82aa01",
   "metadata": {},
   "outputs": [
    {
     "data": {
      "text/html": [
       "<div>\n",
       "<style scoped>\n",
       "    .dataframe tbody tr th:only-of-type {\n",
       "        vertical-align: middle;\n",
       "    }\n",
       "\n",
       "    .dataframe tbody tr th {\n",
       "        vertical-align: top;\n",
       "    }\n",
       "\n",
       "    .dataframe thead th {\n",
       "        text-align: right;\n",
       "    }\n",
       "</style>\n",
       "<table border=\"1\" class=\"dataframe\">\n",
       "  <thead>\n",
       "    <tr style=\"text-align: right;\">\n",
       "      <th></th>\n",
       "      <th>Neighborhoods</th>\n",
       "      <th>Coordinates</th>\n",
       "    </tr>\n",
       "  </thead>\n",
       "  <tbody>\n",
       "    <tr>\n",
       "      <th>0</th>\n",
       "      <td>Baró de Viver</td>\n",
       "      <td>[41.44581467347341, 2.19899775842406]</td>\n",
       "    </tr>\n",
       "    <tr>\n",
       "      <th>1</th>\n",
       "      <td>Can Baró</td>\n",
       "      <td>[41.4167603624773, 2.1623865539676492]</td>\n",
       "    </tr>\n",
       "    <tr>\n",
       "      <th>2</th>\n",
       "      <td>Can Peguera</td>\n",
       "      <td>[41.43484212038238, 2.1664501320817235]</td>\n",
       "    </tr>\n",
       "    <tr>\n",
       "      <th>3</th>\n",
       "      <td>Canyelles</td>\n",
       "      <td>[41.445032990983854, 2.1634504252403164]</td>\n",
       "    </tr>\n",
       "    <tr>\n",
       "      <th>4</th>\n",
       "      <td>Ciutat Meridiana</td>\n",
       "      <td>[41.46120773644666, 2.1748476502321963]</td>\n",
       "    </tr>\n",
       "  </tbody>\n",
       "</table>\n",
       "</div>"
      ],
      "text/plain": [
       "      Neighborhoods                               Coordinates\n",
       "0     Baró de Viver     [41.44581467347341, 2.19899775842406]\n",
       "1          Can Baró    [41.4167603624773, 2.1623865539676492]\n",
       "2       Can Peguera   [41.43484212038238, 2.1664501320817235]\n",
       "3         Canyelles  [41.445032990983854, 2.1634504252403164]\n",
       "4  Ciutat Meridiana   [41.46120773644666, 2.1748476502321963]"
      ]
     },
     "execution_count": 176,
     "metadata": {},
     "output_type": "execute_result"
    }
   ],
   "source": [
    "# scrap Barcelona's neighborhoods and coordinates table\n",
    "url = 'https://data.metabolismofcities.org/library/maps/577245/view/'\n",
    "\n",
    "r = requests.get(url)\n",
    "html = r.text\n",
    "\n",
    "soup = BeautifulSoup(html, 'lxml')\n",
    "table = soup.find('table')\n",
    "rows = table.find_all('tr')\n",
    "data = []\n",
    "for row in rows[1:]:\n",
    "    cols = row.find_all('td')\n",
    "    cols = [ele.text.strip() for ele in cols]\n",
    "    data.append([ele for ele in cols if ele])\n",
    "\n",
    "# convert to dataframe\n",
    "df = pd.DataFrame(data)\n",
    "\n",
    "# rename columns\n",
    "df.columns = ['Neighborhoods', 'Coordinates']\n",
    "\n",
    "df.head()"
   ]
  },
  {
   "cell_type": "code",
   "execution_count": 177,
   "id": "c1ae7b57",
   "metadata": {},
   "outputs": [
    {
     "data": {
      "text/html": [
       "<div>\n",
       "<style scoped>\n",
       "    .dataframe tbody tr th:only-of-type {\n",
       "        vertical-align: middle;\n",
       "    }\n",
       "\n",
       "    .dataframe tbody tr th {\n",
       "        vertical-align: top;\n",
       "    }\n",
       "\n",
       "    .dataframe thead th {\n",
       "        text-align: right;\n",
       "    }\n",
       "</style>\n",
       "<table border=\"1\" class=\"dataframe\">\n",
       "  <thead>\n",
       "    <tr style=\"text-align: right;\">\n",
       "      <th></th>\n",
       "      <th>Neighborhoods</th>\n",
       "      <th>Coordinates</th>\n",
       "      <th>Latitude</th>\n",
       "      <th>Longitude</th>\n",
       "    </tr>\n",
       "  </thead>\n",
       "  <tbody>\n",
       "    <tr>\n",
       "      <th>0</th>\n",
       "      <td>Baró de Viver</td>\n",
       "      <td>[41.44581467347341, 2.19899775842406]</td>\n",
       "      <td>[41.44581467347341</td>\n",
       "      <td>2.19899775842406]</td>\n",
       "    </tr>\n",
       "    <tr>\n",
       "      <th>1</th>\n",
       "      <td>Can Baró</td>\n",
       "      <td>[41.4167603624773, 2.1623865539676492]</td>\n",
       "      <td>[41.4167603624773</td>\n",
       "      <td>2.1623865539676492]</td>\n",
       "    </tr>\n",
       "    <tr>\n",
       "      <th>2</th>\n",
       "      <td>Can Peguera</td>\n",
       "      <td>[41.43484212038238, 2.1664501320817235]</td>\n",
       "      <td>[41.43484212038238</td>\n",
       "      <td>2.1664501320817235]</td>\n",
       "    </tr>\n",
       "    <tr>\n",
       "      <th>3</th>\n",
       "      <td>Canyelles</td>\n",
       "      <td>[41.445032990983854, 2.1634504252403164]</td>\n",
       "      <td>[41.445032990983854</td>\n",
       "      <td>2.1634504252403164]</td>\n",
       "    </tr>\n",
       "    <tr>\n",
       "      <th>4</th>\n",
       "      <td>Ciutat Meridiana</td>\n",
       "      <td>[41.46120773644666, 2.1748476502321963]</td>\n",
       "      <td>[41.46120773644666</td>\n",
       "      <td>2.1748476502321963]</td>\n",
       "    </tr>\n",
       "  </tbody>\n",
       "</table>\n",
       "</div>"
      ],
      "text/plain": [
       "      Neighborhoods                               Coordinates  \\\n",
       "0     Baró de Viver     [41.44581467347341, 2.19899775842406]   \n",
       "1          Can Baró    [41.4167603624773, 2.1623865539676492]   \n",
       "2       Can Peguera   [41.43484212038238, 2.1664501320817235]   \n",
       "3         Canyelles  [41.445032990983854, 2.1634504252403164]   \n",
       "4  Ciutat Meridiana   [41.46120773644666, 2.1748476502321963]   \n",
       "\n",
       "              Latitude            Longitude  \n",
       "0   [41.44581467347341    2.19899775842406]  \n",
       "1    [41.4167603624773  2.1623865539676492]  \n",
       "2   [41.43484212038238  2.1664501320817235]  \n",
       "3  [41.445032990983854  2.1634504252403164]  \n",
       "4   [41.46120773644666  2.1748476502321963]  "
      ]
     },
     "execution_count": 177,
     "metadata": {},
     "output_type": "execute_result"
    }
   ],
   "source": [
    "# split the 'Coordinates' column into two new columns 'Latitude' and 'Longitude'\n",
    "df[['Latitude','Longitude']] = df.Coordinates.str.split(', ', expand = True)\n",
    "\n",
    "df.head()"
   ]
  },
  {
   "cell_type": "code",
   "execution_count": 178,
   "id": "53260ae4",
   "metadata": {},
   "outputs": [
    {
     "data": {
      "text/html": [
       "<div>\n",
       "<style scoped>\n",
       "    .dataframe tbody tr th:only-of-type {\n",
       "        vertical-align: middle;\n",
       "    }\n",
       "\n",
       "    .dataframe tbody tr th {\n",
       "        vertical-align: top;\n",
       "    }\n",
       "\n",
       "    .dataframe thead th {\n",
       "        text-align: right;\n",
       "    }\n",
       "</style>\n",
       "<table border=\"1\" class=\"dataframe\">\n",
       "  <thead>\n",
       "    <tr style=\"text-align: right;\">\n",
       "      <th></th>\n",
       "      <th>Neighborhoods</th>\n",
       "      <th>Latitude</th>\n",
       "      <th>Longitude</th>\n",
       "    </tr>\n",
       "  </thead>\n",
       "  <tbody>\n",
       "    <tr>\n",
       "      <th>0</th>\n",
       "      <td>Baró de Viver</td>\n",
       "      <td>[41.44581467347341</td>\n",
       "      <td>2.19899775842406]</td>\n",
       "    </tr>\n",
       "    <tr>\n",
       "      <th>1</th>\n",
       "      <td>Can Baró</td>\n",
       "      <td>[41.4167603624773</td>\n",
       "      <td>2.1623865539676492]</td>\n",
       "    </tr>\n",
       "    <tr>\n",
       "      <th>2</th>\n",
       "      <td>Can Peguera</td>\n",
       "      <td>[41.43484212038238</td>\n",
       "      <td>2.1664501320817235]</td>\n",
       "    </tr>\n",
       "    <tr>\n",
       "      <th>3</th>\n",
       "      <td>Canyelles</td>\n",
       "      <td>[41.445032990983854</td>\n",
       "      <td>2.1634504252403164]</td>\n",
       "    </tr>\n",
       "    <tr>\n",
       "      <th>4</th>\n",
       "      <td>Ciutat Meridiana</td>\n",
       "      <td>[41.46120773644666</td>\n",
       "      <td>2.1748476502321963]</td>\n",
       "    </tr>\n",
       "  </tbody>\n",
       "</table>\n",
       "</div>"
      ],
      "text/plain": [
       "      Neighborhoods             Latitude            Longitude\n",
       "0     Baró de Viver   [41.44581467347341    2.19899775842406]\n",
       "1          Can Baró    [41.4167603624773  2.1623865539676492]\n",
       "2       Can Peguera   [41.43484212038238  2.1664501320817235]\n",
       "3         Canyelles  [41.445032990983854  2.1634504252403164]\n",
       "4  Ciutat Meridiana   [41.46120773644666  2.1748476502321963]"
      ]
     },
     "execution_count": 178,
     "metadata": {},
     "output_type": "execute_result"
    }
   ],
   "source": [
    "# drop the 'Coordinates' column\n",
    "df_bcn = df.drop(['Coordinates'], axis = 1)\n",
    "\n",
    "df_bcn.head()"
   ]
  },
  {
   "cell_type": "code",
   "execution_count": 179,
   "id": "05c4e794",
   "metadata": {},
   "outputs": [
    {
     "data": {
      "text/html": [
       "<div>\n",
       "<style scoped>\n",
       "    .dataframe tbody tr th:only-of-type {\n",
       "        vertical-align: middle;\n",
       "    }\n",
       "\n",
       "    .dataframe tbody tr th {\n",
       "        vertical-align: top;\n",
       "    }\n",
       "\n",
       "    .dataframe thead th {\n",
       "        text-align: right;\n",
       "    }\n",
       "</style>\n",
       "<table border=\"1\" class=\"dataframe\">\n",
       "  <thead>\n",
       "    <tr style=\"text-align: right;\">\n",
       "      <th></th>\n",
       "      <th>Neighborhoods</th>\n",
       "      <th>Latitude</th>\n",
       "      <th>Longitude</th>\n",
       "    </tr>\n",
       "  </thead>\n",
       "  <tbody>\n",
       "    <tr>\n",
       "      <th>0</th>\n",
       "      <td>Baró de Viver</td>\n",
       "      <td>41.44581467347341</td>\n",
       "      <td>2.19899775842406</td>\n",
       "    </tr>\n",
       "    <tr>\n",
       "      <th>1</th>\n",
       "      <td>Can Baró</td>\n",
       "      <td>41.4167603624773</td>\n",
       "      <td>2.1623865539676492</td>\n",
       "    </tr>\n",
       "    <tr>\n",
       "      <th>2</th>\n",
       "      <td>Can Peguera</td>\n",
       "      <td>41.43484212038238</td>\n",
       "      <td>2.1664501320817235</td>\n",
       "    </tr>\n",
       "    <tr>\n",
       "      <th>3</th>\n",
       "      <td>Canyelles</td>\n",
       "      <td>41.445032990983854</td>\n",
       "      <td>2.1634504252403164</td>\n",
       "    </tr>\n",
       "    <tr>\n",
       "      <th>4</th>\n",
       "      <td>Ciutat Meridiana</td>\n",
       "      <td>41.46120773644666</td>\n",
       "      <td>2.1748476502321963</td>\n",
       "    </tr>\n",
       "  </tbody>\n",
       "</table>\n",
       "</div>"
      ],
      "text/plain": [
       "      Neighborhoods            Latitude           Longitude\n",
       "0     Baró de Viver   41.44581467347341    2.19899775842406\n",
       "1          Can Baró    41.4167603624773  2.1623865539676492\n",
       "2       Can Peguera   41.43484212038238  2.1664501320817235\n",
       "3         Canyelles  41.445032990983854  2.1634504252403164\n",
       "4  Ciutat Meridiana   41.46120773644666  2.1748476502321963"
      ]
     },
     "execution_count": 179,
     "metadata": {},
     "output_type": "execute_result"
    }
   ],
   "source": [
    "# special characters to remove from the dataframe\n",
    "spec_chars = [\"[\",\"]\"]\n",
    "\n",
    "# removing special characters from the 'Latitude' column\n",
    "for char in spec_chars:\n",
    "    df_bcn['Latitude'] = df_bcn['Latitude'].str.replace(char,'', regex=True)\n",
    "\n",
    "# removing special characters from the 'Longitude column'    \n",
    "for char in spec_chars:\n",
    "    df_bcn['Longitude'] = df_bcn['Longitude'].str.replace(char,'', regex=True)\n",
    "\n",
    "df_bcn.head()"
   ]
  },
  {
   "cell_type": "code",
   "execution_count": 180,
   "id": "9b9c8687",
   "metadata": {},
   "outputs": [
    {
     "data": {
      "text/plain": [
       "Neighborhoods    object\n",
       "Latitude         object\n",
       "Longitude        object\n",
       "dtype: object"
      ]
     },
     "execution_count": 180,
     "metadata": {},
     "output_type": "execute_result"
    }
   ],
   "source": [
    "# check column type\n",
    "df_bcn.dtypes"
   ]
  },
  {
   "cell_type": "code",
   "execution_count": 181,
   "id": "2e18c56f",
   "metadata": {},
   "outputs": [
    {
     "data": {
      "text/plain": [
       "Neighborhoods     object\n",
       "Latitude         float64\n",
       "Longitude        float64\n",
       "dtype: object"
      ]
     },
     "execution_count": 181,
     "metadata": {},
     "output_type": "execute_result"
    }
   ],
   "source": [
    "# change column type \n",
    "df_bcn = df_bcn.astype({\"Neighborhoods\": str, \"Latitude\": float, \"Longitude\": float})\n",
    "\n",
    "# check column type\n",
    "df_bcn.dtypes"
   ]
  },
  {
   "cell_type": "code",
   "execution_count": 182,
   "id": "d330ef2a",
   "metadata": {},
   "outputs": [
    {
     "data": {
      "text/html": [
       "<div>\n",
       "<style scoped>\n",
       "    .dataframe tbody tr th:only-of-type {\n",
       "        vertical-align: middle;\n",
       "    }\n",
       "\n",
       "    .dataframe tbody tr th {\n",
       "        vertical-align: top;\n",
       "    }\n",
       "\n",
       "    .dataframe thead th {\n",
       "        text-align: right;\n",
       "    }\n",
       "</style>\n",
       "<table border=\"1\" class=\"dataframe\">\n",
       "  <thead>\n",
       "    <tr style=\"text-align: right;\">\n",
       "      <th></th>\n",
       "      <th>Neighborhood</th>\n",
       "      <th>District</th>\n",
       "    </tr>\n",
       "  </thead>\n",
       "  <tbody>\n",
       "    <tr>\n",
       "      <th>0</th>\n",
       "      <td>Baró de Viver</td>\n",
       "      <td>Sant Andreu</td>\n",
       "    </tr>\n",
       "    <tr>\n",
       "      <th>1</th>\n",
       "      <td>Can Baró</td>\n",
       "      <td>Horta-Guinardó</td>\n",
       "    </tr>\n",
       "    <tr>\n",
       "      <th>2</th>\n",
       "      <td>Can Peguera</td>\n",
       "      <td>Nou Barris</td>\n",
       "    </tr>\n",
       "    <tr>\n",
       "      <th>3</th>\n",
       "      <td>Canyelles</td>\n",
       "      <td>Nou Barris</td>\n",
       "    </tr>\n",
       "    <tr>\n",
       "      <th>4</th>\n",
       "      <td>Ciutat Meridiana</td>\n",
       "      <td>Nou Barris</td>\n",
       "    </tr>\n",
       "  </tbody>\n",
       "</table>\n",
       "</div>"
      ],
      "text/plain": [
       "       Neighborhood        District\n",
       "0     Baró de Viver     Sant Andreu\n",
       "1          Can Baró  Horta-Guinardó\n",
       "2       Can Peguera      Nou Barris\n",
       "3         Canyelles      Nou Barris\n",
       "4  Ciutat Meridiana      Nou Barris"
      ]
     },
     "execution_count": 182,
     "metadata": {},
     "output_type": "execute_result"
    }
   ],
   "source": [
    "# import dataset with Districts\n",
    "df_bcn_districts = pd.read_csv(\"/Users/damienazzopardi/Documents/GitHub/Coursera_Capstone/Districts_Barcelona.csv\")\n",
    "df_bcn_districts.head()"
   ]
  },
  {
   "cell_type": "code",
   "execution_count": 183,
   "id": "e6f7433b",
   "metadata": {},
   "outputs": [
    {
     "data": {
      "text/html": [
       "<div>\n",
       "<style scoped>\n",
       "    .dataframe tbody tr th:only-of-type {\n",
       "        vertical-align: middle;\n",
       "    }\n",
       "\n",
       "    .dataframe tbody tr th {\n",
       "        vertical-align: top;\n",
       "    }\n",
       "\n",
       "    .dataframe thead th {\n",
       "        text-align: right;\n",
       "    }\n",
       "</style>\n",
       "<table border=\"1\" class=\"dataframe\">\n",
       "  <thead>\n",
       "    <tr style=\"text-align: right;\">\n",
       "      <th></th>\n",
       "      <th>Neighborhoods</th>\n",
       "      <th>Latitude</th>\n",
       "      <th>Longitude</th>\n",
       "      <th>District</th>\n",
       "    </tr>\n",
       "  </thead>\n",
       "  <tbody>\n",
       "    <tr>\n",
       "      <th>0</th>\n",
       "      <td>Baró de Viver</td>\n",
       "      <td>41.445815</td>\n",
       "      <td>2.198998</td>\n",
       "      <td>Sant Andreu</td>\n",
       "    </tr>\n",
       "    <tr>\n",
       "      <th>1</th>\n",
       "      <td>Can Baró</td>\n",
       "      <td>41.416760</td>\n",
       "      <td>2.162387</td>\n",
       "      <td>Horta-Guinardó</td>\n",
       "    </tr>\n",
       "    <tr>\n",
       "      <th>2</th>\n",
       "      <td>Can Peguera</td>\n",
       "      <td>41.434842</td>\n",
       "      <td>2.166450</td>\n",
       "      <td>Nou Barris</td>\n",
       "    </tr>\n",
       "    <tr>\n",
       "      <th>3</th>\n",
       "      <td>Canyelles</td>\n",
       "      <td>41.445033</td>\n",
       "      <td>2.163450</td>\n",
       "      <td>Nou Barris</td>\n",
       "    </tr>\n",
       "    <tr>\n",
       "      <th>4</th>\n",
       "      <td>Ciutat Meridiana</td>\n",
       "      <td>41.461208</td>\n",
       "      <td>2.174848</td>\n",
       "      <td>Nou Barris</td>\n",
       "    </tr>\n",
       "  </tbody>\n",
       "</table>\n",
       "</div>"
      ],
      "text/plain": [
       "      Neighborhoods   Latitude  Longitude        District\n",
       "0     Baró de Viver  41.445815   2.198998     Sant Andreu\n",
       "1          Can Baró  41.416760   2.162387  Horta-Guinardó\n",
       "2       Can Peguera  41.434842   2.166450      Nou Barris\n",
       "3         Canyelles  41.445033   2.163450      Nou Barris\n",
       "4  Ciutat Meridiana  41.461208   2.174848      Nou Barris"
      ]
     },
     "execution_count": 183,
     "metadata": {},
     "output_type": "execute_result"
    }
   ],
   "source": [
    "# merge both dataframes into one\n",
    "df_barcelona = pd.merge(df_bcn, df_bcn_districts, how = 'left', left_on = 'Neighborhoods', right_on = 'Neighborhood')\n",
    "df_barcelona.drop(\"Neighborhood\", axis = 1, inplace = True)\n",
    "df_barcelona.head()"
   ]
  },
  {
   "cell_type": "code",
   "execution_count": null,
   "id": "47844b6e",
   "metadata": {},
   "outputs": [],
   "source": []
  },
  {
   "cell_type": "code",
   "execution_count": null,
   "id": "f4a38be0",
   "metadata": {},
   "outputs": [],
   "source": []
  },
  {
   "cell_type": "code",
   "execution_count": null,
   "id": "bcfd07ee",
   "metadata": {},
   "outputs": [],
   "source": []
  },
  {
   "cell_type": "code",
   "execution_count": null,
   "id": "3b4013c2",
   "metadata": {},
   "outputs": [],
   "source": []
  },
  {
   "cell_type": "code",
   "execution_count": null,
   "id": "a4b1951f",
   "metadata": {},
   "outputs": [],
   "source": []
  },
  {
   "cell_type": "code",
   "execution_count": null,
   "id": "da712b1f",
   "metadata": {},
   "outputs": [],
   "source": []
  },
  {
   "cell_type": "code",
   "execution_count": null,
   "id": "d7255b65",
   "metadata": {},
   "outputs": [],
   "source": []
  },
  {
   "cell_type": "code",
   "execution_count": 185,
   "id": "969f6444",
   "metadata": {},
   "outputs": [
    {
     "name": "stdout",
     "output_type": "stream",
     "text": [
      "The geograpical coordinate of Barcelona are 41.3828939, 2.1774322.\n"
     ]
    }
   ],
   "source": [
    "address = 'Barcelona, Spain'\n",
    "\n",
    "geolocator = Nominatim(user_agent=\"barcelona_explorer\")\n",
    "location = geolocator.geocode(address)\n",
    "latitude = location.latitude\n",
    "longitude = location.longitude\n",
    "print('The geograpical coordinate of Barcelona are {}, {}.'.format(latitude, longitude))"
   ]
  },
  {
   "cell_type": "code",
   "execution_count": 186,
   "id": "b53ba780",
   "metadata": {},
   "outputs": [
    {
     "data": {
      "text/html": [
       "<div style=\"width:100%;\"><div style=\"position:relative;width:100%;height:0;padding-bottom:60%;\"><iframe src=\"data:text/html;charset=utf-8;base64,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\" style=\"position:absolute;width:100%;height:100%;left:0;top:0;border:none !important;\" allowfullscreen webkitallowfullscreen mozallowfullscreen></iframe></div></div>"
      ],
      "text/plain": [
       "<folium.folium.Map at 0x7fcf83ca6bb0>"
      ]
     },
     "execution_count": 186,
     "metadata": {},
     "output_type": "execute_result"
    }
   ],
   "source": [
    "# create map of Toronto using latitude and longitude values\n",
    "map_barcelona = folium.Map(location=[latitude, longitude], zoom_start=12)\n",
    "\n",
    "# add neighborhoods markers to map\n",
    "for lat, lng, district, neighborhoods in zip(df_barcelona['Latitude'], df_barcelona['Longitude'], df_barcelona['District'], df_barcelona['Neighborhoods']):\n",
    "    label = '{}, {}'.format(neighborhoods, district)\n",
    "    label = folium.Popup(label, parse_html=True)\n",
    "    folium.CircleMarker(\n",
    "        [lat, lng],\n",
    "        radius=5,\n",
    "        popup=label,\n",
    "        color='blue',\n",
    "        fill=True,\n",
    "        fill_color='#3186cc',\n",
    "        fill_opacity=0.7,\n",
    "        parse_html=False).add_to(map_barcelona)  \n",
    "    \n",
    "map_barcelona"
   ]
  },
  {
   "cell_type": "code",
   "execution_count": null,
   "id": "b6beb0d6",
   "metadata": {},
   "outputs": [],
   "source": []
  },
  {
   "cell_type": "code",
   "execution_count": null,
   "id": "3578abb5",
   "metadata": {},
   "outputs": [],
   "source": []
  },
  {
   "cell_type": "code",
   "execution_count": null,
   "id": "2abf1b5f",
   "metadata": {},
   "outputs": [],
   "source": []
  },
  {
   "cell_type": "code",
   "execution_count": null,
   "id": "90c9bd0d",
   "metadata": {},
   "outputs": [],
   "source": []
  },
  {
   "cell_type": "code",
   "execution_count": null,
   "id": "e647b3af",
   "metadata": {},
   "outputs": [],
   "source": []
  },
  {
   "cell_type": "code",
   "execution_count": null,
   "id": "24f6f72c",
   "metadata": {},
   "outputs": [],
   "source": []
  }
 ],
 "metadata": {
  "kernelspec": {
   "display_name": "Python 3",
   "language": "python",
   "name": "python3"
  },
  "language_info": {
   "codemirror_mode": {
    "name": "ipython",
    "version": 3
   },
   "file_extension": ".py",
   "mimetype": "text/x-python",
   "name": "python",
   "nbconvert_exporter": "python",
   "pygments_lexer": "ipython3",
   "version": "3.8.8"
  }
 },
 "nbformat": 4,
 "nbformat_minor": 5
}
