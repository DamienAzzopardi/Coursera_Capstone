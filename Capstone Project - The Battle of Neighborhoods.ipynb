{
 "cells": [
  {
   "cell_type": "markdown",
   "id": "7f6d6392",
   "metadata": {},
   "source": [
    "## IBM Data Science Professional Certificate\n",
    "### Capstone Project - The Battle of Neighborhoods\n",
    "\n",
    "Damien Azzopardi - July 2021"
   ]
  },
  {
   "cell_type": "markdown",
   "id": "a3070dec",
   "metadata": {},
   "source": [
    "<h2>Table of Contents</h2>\n",
    "\n",
    "<ol>\n",
    "    <li><a href=\"#introduction\"><b>Introduction</b></a>\n",
    "        <ul>\n",
    "            <li><a href=\"#business_problem\">Business Problem</a>          \n",
    "        </ul>\n",
    "<br>\n",
    "<br>\n",
    "    <li><a href=\"#data\"><b>Data</b></a></li>\n",
    "        <ul>\n",
    "            <li><a href=\"#data_1\">Data 1</a>     \n",
    "        </ul>\n",
    "<hr>"
   ]
  },
  {
   "cell_type": "markdown",
   "id": "01e05aa1",
   "metadata": {},
   "source": [
    "<h2 id=\"introduction\">Introduction</h2>"
   ]
  },
  {
   "cell_type": "markdown",
   "id": "e2b14eac",
   "metadata": {},
   "source": [
    "Clearly define a problem or an idea of your choice, where you would need to leverage the Foursquare location data to solve or execute. Remember that data science problems always target an audience and are meant to help a group of stakeholders solve a problem, so make sure that you explicitly describe your audience and why they would care about your problem."
   ]
  },
  {
   "cell_type": "markdown",
   "id": "31b9cba6",
   "metadata": {},
   "source": [
    "<h3 id=\"business_problem\">Business Problem</h3>"
   ]
  },
  {
   "cell_type": "markdown",
   "id": "4690d7a0",
   "metadata": {},
   "source": [
    "XXX"
   ]
  },
  {
   "cell_type": "markdown",
   "id": "a985a279",
   "metadata": {},
   "source": [
    "<h2 id=\"data\">Data</h2>"
   ]
  },
  {
   "cell_type": "markdown",
   "id": "ccd10b4e",
   "metadata": {},
   "source": [
    "Describe the data that you will be using to solve the problem or execute your idea. Remember that you will need to use the Foursquare location data to solve the problem or execute your idea. You can absolutely use other datasets in combination with the Foursquare location data. So make sure that you provide adequate explanation and discussion, with examples, of the data that you will be using, even if it is only Foursquare location data."
   ]
  }
 ],
 "metadata": {
  "kernelspec": {
   "display_name": "Python 3",
   "language": "python",
   "name": "python3"
  },
  "language_info": {
   "codemirror_mode": {
    "name": "ipython",
    "version": 3
   },
   "file_extension": ".py",
   "mimetype": "text/x-python",
   "name": "python",
   "nbconvert_exporter": "python",
   "pygments_lexer": "ipython3",
   "version": "3.8.8"
  }
 },
 "nbformat": 4,
 "nbformat_minor": 5
}
