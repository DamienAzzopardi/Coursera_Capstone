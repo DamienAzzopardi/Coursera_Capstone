{
 "cells": [
  {
   "cell_type": "markdown",
   "id": "7d264440",
   "metadata": {},
   "source": [
    "## IBM Data Science Professional Certificate\n",
    "### Capstone Project - The Battle of Neighborhoods\n",
    "\n",
    "Damien Azzopardi - July 2021"
   ]
  },
  {
   "cell_type": "markdown",
   "id": "b3cafbd9",
   "metadata": {},
   "source": [
    "<h2>Table of Contents</h2>\n",
    "<br>\n",
    "<ol>\n",
    "    <li><a href=\"introduction\"><b>Introduction</b></a>\n",
    "<br>\n",
    "<br>\n",
    "    <li><a href=\"data\"><b>Data</b></a></li>\n",
    "        <ul>\n",
    "            <li><a href=\"neighborhoods_and_coordinates\">Neighborhoods & Coordinates</a>\n",
    "            <li><a href=\"districts\">Districts</a>    \n",
    "            <li><a href=\"venues\">Venues</a>     \n",
    "        </ul>"
   ]
  },
  {
   "cell_type": "markdown",
   "id": "a87dbacd",
   "metadata": {},
   "source": [
    "<h2 id=\"introduction\">Introduction</h2>"
   ]
  },
  {
   "cell_type": "markdown",
   "id": "feb5d4d6",
   "metadata": {},
   "source": [
    "**The Green Alternative** is a group of vegetarian restaurants, which started operating in Madrid, Spain, in 2010. We are currently running six different restaurants across different neighborhoods in Madrid, oriented towards locals. As our group is becoming successful in the spanish capital, this year, we would like to expand our operations and open a vegetarian restaurant in Barcelona.\n",
    "\n",
    "The question we are trying to answer is; **what is the best neighborhood to open a vegetarian restaurant in Barcelona?**\n",
    "\n",
    "After running a market research and looking into the data collected from our six current restaurants in Madrid, we found that our most successful locations are in neighborhoods which:\n",
    "- Are close to a **metro** or **train station**, where the flow of people is high.\n",
    "- Have a **park** or **garden** closeby, where our customers like to have lunch.\n",
    "- Have a **gym** closeby, as most of our customers come for lunch or dinner after training at the gym.\n",
    "\n",
    "Knowing this, we'll leverage the Foursquare location data in order to calculate the density of metro and train stations, parks, gardens, and gyms, for each neighborhood in Barcelona, and pick the one with higher density of selected venues to open our first vegetarian restaurant in the city of Barcelona."
   ]
  },
  {
   "cell_type": "markdown",
   "id": "a0ee3c96",
   "metadata": {},
   "source": [
    "<h2 id=\"data\">Data</h2>"
   ]
  },
  {
   "cell_type": "markdown",
   "id": "161030aa",
   "metadata": {},
   "source": [
    "The data we will be using to help us answer our question comes from the following sources."
   ]
  },
  {
   "cell_type": "markdown",
   "id": "fca889b0",
   "metadata": {},
   "source": [
    "<h3 id=\"neighborhoods_and_coordinates\">Neighborhoods & Coordinates</h3>\n",
    "\n",
    "<h4>Metabolism of Cities</h4>\n",
    "\n",
    "The full list of Barcelona's neighborhoods, along with their corresponding coordinates is available in [this](https://data.metabolismofcities.org/library/maps/577245/view/) page (*metabolismofcities.org*). It consists of a table with two rows, **Neighborhoods** and **Coordinates**. We will scrap the table containing the list of neighborhoods and coordinates directly in this workbook.\n",
    "\n",
    "\n",
    "<h3 id=\"districts\">Districts</h3>\n",
    "\n",
    "<h4>Wikipedia</h4>\n",
    "\n",
    "The full list of Barcelona's districts, along with their corresponding neirhborhoods is available in [this](https://en.wikipedia.org/wiki/Districts_of_Barcelona) page (*wikipedia.org*). We will export a CSV containing two rows, **Districts** and  **Neighborhoods**, that we will read directly in this workbook, and join it with the first dataset containing the **Neighborhoods** and **Coordinates**.\n",
    "\n",
    "\n",
    "<h3 id=\"venues\">Venues</h3>\n",
    "\n",
    "<h4>Foursquare</h4>\n",
    "\n",
    "We will leverage the Foursquare location data in order to calculate the density of the venues we have selected for the analysis. We will join it with the first two datasets containing the **District**, **Neighborhoods** and **Coordinates**."
   ]
  },
  {
   "cell_type": "code",
   "execution_count": null,
   "id": "ce392b3c",
   "metadata": {},
   "outputs": [],
   "source": []
  }
 ],
 "metadata": {
  "kernelspec": {
   "display_name": "Python 3",
   "language": "python",
   "name": "python3"
  },
  "language_info": {
   "codemirror_mode": {
    "name": "ipython",
    "version": 3
   },
   "file_extension": ".py",
   "mimetype": "text/x-python",
   "name": "python",
   "nbconvert_exporter": "python",
   "pygments_lexer": "ipython3",
   "version": "3.8.8"
  }
 },
 "nbformat": 4,
 "nbformat_minor": 5
}
