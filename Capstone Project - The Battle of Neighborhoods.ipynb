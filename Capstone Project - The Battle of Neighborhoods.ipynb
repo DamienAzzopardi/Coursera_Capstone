{
 "cells": [
  {
   "cell_type": "markdown",
   "id": "7d264440",
   "metadata": {},
   "source": [
    "## IBM Data Science Professional Certificate\n",
    "### Capstone Project - The Battle of Neighborhoods\n",
    "\n",
    "Damien Azzopardi - July 2021"
   ]
  },
  {
   "cell_type": "markdown",
   "id": "b3cafbd9",
   "metadata": {},
   "source": [
    "<h2>Table of Contents</h2>\n",
    "\n",
    "<ol>\n",
    "    <li><a href=\"#introduction\"><b>Introduction</b></a>\n",
    "        <ul>\n",
    "            <li><a href=\"#business_problem\">Business Problem</a>          \n",
    "        </ul>\n",
    "<br>\n",
    "<br>\n",
    "    <li><a href=\"#data\"><b>Data</b></a></li>\n",
    "        <ul>\n",
    "            <li><a href=\"#data_1\">Data 1</a>     \n",
    "        </ul>\n",
    "<hr>"
   ]
  },
  {
   "cell_type": "markdown",
   "id": "a87dbacd",
   "metadata": {},
   "source": [
    "<h2 id=\"introduction\">Introduction</h2>"
   ]
  },
  {
   "cell_type": "markdown",
   "id": "feb5d4d6",
   "metadata": {},
   "source": [
    "Clearly define a problem or an idea of your choice, where you would need to leverage the Foursquare location data to solve or execute. Remember that data science problems always target an audience and are meant to help a group of stakeholders solve a problem, so make sure that you explicitly describe your audience and why they would care about your problem."
   ]
  },
  {
   "cell_type": "markdown",
   "id": "11c45fd4",
   "metadata": {},
   "source": [
    "<h3 id=\"business_problem\">Business Problem</h3>"
   ]
  },
  {
   "cell_type": "markdown",
   "id": "c3ab4f1c",
   "metadata": {},
   "source": [
    "XXX"
   ]
  },
  {
   "cell_type": "markdown",
   "id": "a0ee3c96",
   "metadata": {},
   "source": [
    "<h2 id=\"data\">Data</h2>"
   ]
  },
  {
   "cell_type": "markdown",
   "id": "161030aa",
   "metadata": {},
   "source": [
    "Describe the data that you will be using to solve the problem or execute your idea. Remember that you will need to use the Foursquare location data to solve the problem or execute your idea. You can absolutely use other datasets in combination with the Foursquare location data. So make sure that you provide adequate explanation and discussion, with examples, of the data that you will be using, even if it is only Foursquare location data.\n",
    "\n",
    "- **Neighborhoods list**:\n",
    "The data containing the list of neighborhoods in Barcelona is coming from the [Districts of Barcelona Wikipedia page](https://en.wikipedia.org/wiki/Districts_of_Barcelona). The data manipulation required in order to scrap and get the list of neighborhoods in the proper format will be done directly in the workbook.\n",
    "\n",
    "\n",
    "- **Neighborhoods coordinates**:\n",
    "\n",
    "https://data.metabolismofcities.org/library/maps/577245/view/\n",
    "\n",
    "https://data.metabolismofcities.org/referencespaces/view/577264/\n",
    "\n",
    "XXX\n",
    "\n",
    "- **Foursquare**:"
   ]
  },
  {
   "cell_type": "code",
   "execution_count": 1,
   "id": "476a1f4e",
   "metadata": {},
   "outputs": [],
   "source": [
    "# load libraries\n",
    "import pandas as pd\n",
    "import numpy as np\n",
    "import requests\n",
    "from bs4 import BeautifulSoup\n",
    "#!conda install -c conda-forge geopy --yes\n",
    "from geopy.geocoders import Nominatim\n",
    "from pandas.io.json import json_normalize\n",
    "import matplotlib.cm as cm\n",
    "import matplotlib.colors as colors\n",
    "from sklearn.cluster import KMeans\n",
    "import folium"
   ]
  },
  {
   "cell_type": "code",
   "execution_count": 53,
   "id": "9d82aa01",
   "metadata": {},
   "outputs": [
    {
     "data": {
      "text/html": [
       "<div>\n",
       "<style scoped>\n",
       "    .dataframe tbody tr th:only-of-type {\n",
       "        vertical-align: middle;\n",
       "    }\n",
       "\n",
       "    .dataframe tbody tr th {\n",
       "        vertical-align: top;\n",
       "    }\n",
       "\n",
       "    .dataframe thead th {\n",
       "        text-align: right;\n",
       "    }\n",
       "</style>\n",
       "<table border=\"1\" class=\"dataframe\">\n",
       "  <thead>\n",
       "    <tr style=\"text-align: right;\">\n",
       "      <th></th>\n",
       "      <th>Neighborhoods</th>\n",
       "      <th>Coordinates</th>\n",
       "    </tr>\n",
       "  </thead>\n",
       "  <tbody>\n",
       "    <tr>\n",
       "      <th>0</th>\n",
       "      <td>Baró de Viver</td>\n",
       "      <td>[41.44581467347341, 2.19899775842406]</td>\n",
       "    </tr>\n",
       "    <tr>\n",
       "      <th>1</th>\n",
       "      <td>Can Baró</td>\n",
       "      <td>[41.4167603624773, 2.1623865539676492]</td>\n",
       "    </tr>\n",
       "    <tr>\n",
       "      <th>2</th>\n",
       "      <td>Can Peguera</td>\n",
       "      <td>[41.43484212038238, 2.1664501320817235]</td>\n",
       "    </tr>\n",
       "    <tr>\n",
       "      <th>3</th>\n",
       "      <td>Canyelles</td>\n",
       "      <td>[41.445032990983854, 2.1634504252403164]</td>\n",
       "    </tr>\n",
       "    <tr>\n",
       "      <th>4</th>\n",
       "      <td>Ciutat Meridiana</td>\n",
       "      <td>[41.46120773644666, 2.1748476502321963]</td>\n",
       "    </tr>\n",
       "  </tbody>\n",
       "</table>\n",
       "</div>"
      ],
      "text/plain": [
       "      Neighborhoods                               Coordinates\n",
       "0     Baró de Viver     [41.44581467347341, 2.19899775842406]\n",
       "1          Can Baró    [41.4167603624773, 2.1623865539676492]\n",
       "2       Can Peguera   [41.43484212038238, 2.1664501320817235]\n",
       "3         Canyelles  [41.445032990983854, 2.1634504252403164]\n",
       "4  Ciutat Meridiana   [41.46120773644666, 2.1748476502321963]"
      ]
     },
     "execution_count": 53,
     "metadata": {},
     "output_type": "execute_result"
    }
   ],
   "source": [
    "url = 'https://data.metabolismofcities.org/library/maps/577245/view/'\n",
    "\n",
    "r = requests.get(url)\n",
    "html = r.text\n",
    "\n",
    "soup = BeautifulSoup(html, 'lxml')\n",
    "table = soup.find('table')\n",
    "rows = table.find_all('tr')\n",
    "data = []\n",
    "for row in rows[1:]:\n",
    "    cols = row.find_all('td')\n",
    "    cols = [ele.text.strip() for ele in cols]\n",
    "    data.append([ele for ele in cols if ele])\n",
    "\n",
    "# convert the scrapped table to a dataframe\n",
    "df = pd.DataFrame(data)\n",
    "\n",
    "# Rename column names\n",
    "df.columns = ['Neighborhoods', 'Coordinates']\n",
    "\n",
    "df.head()"
   ]
  },
  {
   "cell_type": "markdown",
   "id": "f4e6b025",
   "metadata": {},
   "source": [
    "## Data Manipulation"
   ]
  },
  {
   "cell_type": "code",
   "execution_count": 54,
   "id": "ccf6ac2e",
   "metadata": {},
   "outputs": [
    {
     "data": {
      "text/html": [
       "<div>\n",
       "<style scoped>\n",
       "    .dataframe tbody tr th:only-of-type {\n",
       "        vertical-align: middle;\n",
       "    }\n",
       "\n",
       "    .dataframe tbody tr th {\n",
       "        vertical-align: top;\n",
       "    }\n",
       "\n",
       "    .dataframe thead th {\n",
       "        text-align: right;\n",
       "    }\n",
       "</style>\n",
       "<table border=\"1\" class=\"dataframe\">\n",
       "  <thead>\n",
       "    <tr style=\"text-align: right;\">\n",
       "      <th></th>\n",
       "      <th>Neighborhoods</th>\n",
       "      <th>Coordinates</th>\n",
       "      <th>Latitude</th>\n",
       "      <th>Longitude</th>\n",
       "    </tr>\n",
       "  </thead>\n",
       "  <tbody>\n",
       "    <tr>\n",
       "      <th>0</th>\n",
       "      <td>Baró de Viver</td>\n",
       "      <td>[41.44581467347341, 2.19899775842406]</td>\n",
       "      <td>[41.44581467347341</td>\n",
       "      <td>2.19899775842406]</td>\n",
       "    </tr>\n",
       "    <tr>\n",
       "      <th>1</th>\n",
       "      <td>Can Baró</td>\n",
       "      <td>[41.4167603624773, 2.1623865539676492]</td>\n",
       "      <td>[41.4167603624773</td>\n",
       "      <td>2.1623865539676492]</td>\n",
       "    </tr>\n",
       "    <tr>\n",
       "      <th>2</th>\n",
       "      <td>Can Peguera</td>\n",
       "      <td>[41.43484212038238, 2.1664501320817235]</td>\n",
       "      <td>[41.43484212038238</td>\n",
       "      <td>2.1664501320817235]</td>\n",
       "    </tr>\n",
       "    <tr>\n",
       "      <th>3</th>\n",
       "      <td>Canyelles</td>\n",
       "      <td>[41.445032990983854, 2.1634504252403164]</td>\n",
       "      <td>[41.445032990983854</td>\n",
       "      <td>2.1634504252403164]</td>\n",
       "    </tr>\n",
       "    <tr>\n",
       "      <th>4</th>\n",
       "      <td>Ciutat Meridiana</td>\n",
       "      <td>[41.46120773644666, 2.1748476502321963]</td>\n",
       "      <td>[41.46120773644666</td>\n",
       "      <td>2.1748476502321963]</td>\n",
       "    </tr>\n",
       "  </tbody>\n",
       "</table>\n",
       "</div>"
      ],
      "text/plain": [
       "      Neighborhoods                               Coordinates  \\\n",
       "0     Baró de Viver     [41.44581467347341, 2.19899775842406]   \n",
       "1          Can Baró    [41.4167603624773, 2.1623865539676492]   \n",
       "2       Can Peguera   [41.43484212038238, 2.1664501320817235]   \n",
       "3         Canyelles  [41.445032990983854, 2.1634504252403164]   \n",
       "4  Ciutat Meridiana   [41.46120773644666, 2.1748476502321963]   \n",
       "\n",
       "              Latitude            Longitude  \n",
       "0   [41.44581467347341    2.19899775842406]  \n",
       "1    [41.4167603624773  2.1623865539676492]  \n",
       "2   [41.43484212038238  2.1664501320817235]  \n",
       "3  [41.445032990983854  2.1634504252403164]  \n",
       "4   [41.46120773644666  2.1748476502321963]  "
      ]
     },
     "execution_count": 54,
     "metadata": {},
     "output_type": "execute_result"
    }
   ],
   "source": [
    "# split the 'Coordinates' table into two new columns 'Latitude' and 'Longitude'\n",
    "df[['Latitude','Longitude']] = df.Coordinates.str.split(', ', expand = True)\n",
    "\n",
    "df.head()"
   ]
  },
  {
   "cell_type": "code",
   "execution_count": 91,
   "id": "dbcb51ea",
   "metadata": {},
   "outputs": [
    {
     "data": {
      "text/html": [
       "<div>\n",
       "<style scoped>\n",
       "    .dataframe tbody tr th:only-of-type {\n",
       "        vertical-align: middle;\n",
       "    }\n",
       "\n",
       "    .dataframe tbody tr th {\n",
       "        vertical-align: top;\n",
       "    }\n",
       "\n",
       "    .dataframe thead th {\n",
       "        text-align: right;\n",
       "    }\n",
       "</style>\n",
       "<table border=\"1\" class=\"dataframe\">\n",
       "  <thead>\n",
       "    <tr style=\"text-align: right;\">\n",
       "      <th></th>\n",
       "      <th>Neighborhoods</th>\n",
       "      <th>Latitude</th>\n",
       "      <th>Longitude</th>\n",
       "    </tr>\n",
       "  </thead>\n",
       "  <tbody>\n",
       "    <tr>\n",
       "      <th>0</th>\n",
       "      <td>Baró de Viver</td>\n",
       "      <td>[41.44581467347341</td>\n",
       "      <td>2.19899775842406]</td>\n",
       "    </tr>\n",
       "    <tr>\n",
       "      <th>1</th>\n",
       "      <td>Can Baró</td>\n",
       "      <td>[41.4167603624773</td>\n",
       "      <td>2.1623865539676492]</td>\n",
       "    </tr>\n",
       "    <tr>\n",
       "      <th>2</th>\n",
       "      <td>Can Peguera</td>\n",
       "      <td>[41.43484212038238</td>\n",
       "      <td>2.1664501320817235]</td>\n",
       "    </tr>\n",
       "    <tr>\n",
       "      <th>3</th>\n",
       "      <td>Canyelles</td>\n",
       "      <td>[41.445032990983854</td>\n",
       "      <td>2.1634504252403164]</td>\n",
       "    </tr>\n",
       "    <tr>\n",
       "      <th>4</th>\n",
       "      <td>Ciutat Meridiana</td>\n",
       "      <td>[41.46120773644666</td>\n",
       "      <td>2.1748476502321963]</td>\n",
       "    </tr>\n",
       "  </tbody>\n",
       "</table>\n",
       "</div>"
      ],
      "text/plain": [
       "      Neighborhoods             Latitude            Longitude\n",
       "0     Baró de Viver   [41.44581467347341    2.19899775842406]\n",
       "1          Can Baró    [41.4167603624773  2.1623865539676492]\n",
       "2       Can Peguera   [41.43484212038238  2.1664501320817235]\n",
       "3         Canyelles  [41.445032990983854  2.1634504252403164]\n",
       "4  Ciutat Meridiana   [41.46120773644666  2.1748476502321963]"
      ]
     },
     "execution_count": 91,
     "metadata": {},
     "output_type": "execute_result"
    }
   ],
   "source": [
    "# drop the 'Coordinates' column\n",
    "neighborhoods_bcn = df.drop(['Coordinates'], axis = 1)\n",
    "\n",
    "neighborhoods_bcn.head()"
   ]
  },
  {
   "cell_type": "code",
   "execution_count": 108,
   "id": "ec5ec607",
   "metadata": {},
   "outputs": [
    {
     "data": {
      "text/html": [
       "<div>\n",
       "<style scoped>\n",
       "    .dataframe tbody tr th:only-of-type {\n",
       "        vertical-align: middle;\n",
       "    }\n",
       "\n",
       "    .dataframe tbody tr th {\n",
       "        vertical-align: top;\n",
       "    }\n",
       "\n",
       "    .dataframe thead th {\n",
       "        text-align: right;\n",
       "    }\n",
       "</style>\n",
       "<table border=\"1\" class=\"dataframe\">\n",
       "  <thead>\n",
       "    <tr style=\"text-align: right;\">\n",
       "      <th></th>\n",
       "      <th>Neighborhoods</th>\n",
       "      <th>Latitude</th>\n",
       "      <th>Longitude</th>\n",
       "    </tr>\n",
       "  </thead>\n",
       "  <tbody>\n",
       "    <tr>\n",
       "      <th>0</th>\n",
       "      <td>Baró de Viver</td>\n",
       "      <td>41.44581467347341</td>\n",
       "      <td>2.19899775842406</td>\n",
       "    </tr>\n",
       "    <tr>\n",
       "      <th>1</th>\n",
       "      <td>Can Baró</td>\n",
       "      <td>41.4167603624773</td>\n",
       "      <td>2.1623865539676492</td>\n",
       "    </tr>\n",
       "    <tr>\n",
       "      <th>2</th>\n",
       "      <td>Can Peguera</td>\n",
       "      <td>41.43484212038238</td>\n",
       "      <td>2.1664501320817235</td>\n",
       "    </tr>\n",
       "    <tr>\n",
       "      <th>3</th>\n",
       "      <td>Canyelles</td>\n",
       "      <td>41.445032990983854</td>\n",
       "      <td>2.1634504252403164</td>\n",
       "    </tr>\n",
       "    <tr>\n",
       "      <th>4</th>\n",
       "      <td>Ciutat Meridiana</td>\n",
       "      <td>41.46120773644666</td>\n",
       "      <td>2.1748476502321963</td>\n",
       "    </tr>\n",
       "  </tbody>\n",
       "</table>\n",
       "</div>"
      ],
      "text/plain": [
       "      Neighborhoods            Latitude           Longitude\n",
       "0     Baró de Viver   41.44581467347341    2.19899775842406\n",
       "1          Can Baró    41.4167603624773  2.1623865539676492\n",
       "2       Can Peguera   41.43484212038238  2.1664501320817235\n",
       "3         Canyelles  41.445032990983854  2.1634504252403164\n",
       "4  Ciutat Meridiana   41.46120773644666  2.1748476502321963"
      ]
     },
     "execution_count": 108,
     "metadata": {},
     "output_type": "execute_result"
    }
   ],
   "source": [
    "# special characters to remove from the dataframe\n",
    "spec_chars = [\"[\",\"]\"]\n",
    "\n",
    "# removing special characters from the 'Latitude' column\n",
    "for char in spec_chars:\n",
    "    neighborhoods_bcn['Latitude'] = neighborhoods_bcn['Latitude'].str.replace(char,'', regex=True)\n",
    "\n",
    "# removing special characters from the 'Longitude column'    \n",
    "for char in spec_chars:\n",
    "    neighborhoods_bcn['Longitude'] = neighborhoods_bcn['Longitude'].str.replace(char,'', regex=True)\n",
    "\n",
    "neighborhoods_bcn.head()"
   ]
  },
  {
   "cell_type": "code",
   "execution_count": 110,
   "id": "f1335d36",
   "metadata": {},
   "outputs": [
    {
     "data": {
      "text/plain": [
       "(73, 3)"
      ]
     },
     "execution_count": 110,
     "metadata": {},
     "output_type": "execute_result"
    }
   ],
   "source": [
    "neighborhoods_bcn.shape"
   ]
  },
  {
   "cell_type": "markdown",
   "id": "ec148e26",
   "metadata": {},
   "source": [
    "Our dataset containing all neighborhoods in Barcelona, along with their corresponding coordinates is now ready for use. However, for our analysis, in order to know the potential market for each neighborhood, we would also like to know the size and number of inhabitants for each neighborhood. We can find that list on https://en.wikipedia.org/wiki/Districts_of_Barcelona."
   ]
  },
  {
   "cell_type": "code",
   "execution_count": null,
   "id": "410bbc4c",
   "metadata": {},
   "outputs": [],
   "source": []
  },
  {
   "cell_type": "code",
   "execution_count": null,
   "id": "c8fa2a8e",
   "metadata": {},
   "outputs": [],
   "source": []
  },
  {
   "cell_type": "code",
   "execution_count": null,
   "id": "f422d72d",
   "metadata": {},
   "outputs": [],
   "source": []
  },
  {
   "cell_type": "code",
   "execution_count": null,
   "id": "4697aadb",
   "metadata": {},
   "outputs": [],
   "source": []
  },
  {
   "cell_type": "code",
   "execution_count": null,
   "id": "509c86be",
   "metadata": {},
   "outputs": [],
   "source": []
  },
  {
   "cell_type": "code",
   "execution_count": null,
   "id": "24eedd39",
   "metadata": {},
   "outputs": [],
   "source": []
  },
  {
   "cell_type": "code",
   "execution_count": null,
   "id": "f623920e",
   "metadata": {},
   "outputs": [],
   "source": []
  },
  {
   "cell_type": "code",
   "execution_count": null,
   "id": "a4b86c11",
   "metadata": {},
   "outputs": [],
   "source": []
  },
  {
   "cell_type": "code",
   "execution_count": 10,
   "id": "abde114d",
   "metadata": {
    "scrolled": false
   },
   "outputs": [
    {
     "data": {
      "text/plain": [
       "'Ciutat Vella, Eixample, Sants-Montjuïc, Les Corts, Sarrià-Sant Gervasi, Gràcia, Horta-Guinardó, Nou Barris, Sant Andreu, Sant Martí'"
      ]
     },
     "execution_count": 10,
     "metadata": {},
     "output_type": "execute_result"
    }
   ],
   "source": [
    "url = 'https://en.wikipedia.org/wiki/Districts_of_Barcelona'\n",
    "\n",
    "r = requests.get(url)\n",
    "html = r.text\n",
    "\n",
    "soup = BeautifulSoup(html, 'lxml')\n",
    "table = soup.find('table',{'class':\"wikitable\"})\n",
    "rows = table.find_all('tr')\n",
    "data = []\n",
    "for row in rows[1:]:\n",
    "    cols = row.find_all('td')\n",
    "    cols = [ele.text.strip() for ele in cols]\n",
    "    data.append([ele for ele in cols if ele])\n",
    "\n",
    "# get only the name of the neighborhoods and convert it to a list\n",
    "neighborhoods = (data[0][5] + str(', ') + data[1][5] + str(', ') + data[2][5] + str(', ') + data[3][5] + str(', ') + data[4][5] + str(', ') + data[5][5] + str(', ') + data[6][5] + str(', ') + data[7][5] + str(', ') + data[8][5] + str(', ') + data[9][5])\n",
    "districts = (data[0][1] + str(', ') + data[1][1] + str(', ') + data[2][1] + str(', ') + data[3][1] + str(', ') + data[4][1] + str(', ') + data[5][1] + str(', ') + data[6][1] + str(', ') + data[7][1] + str(', ') + data[8][1] + str(', ') + data[9][1])\n",
    "\n",
    "districts"
   ]
  },
  {
   "cell_type": "code",
   "execution_count": 13,
   "id": "4a635cc2",
   "metadata": {
    "scrolled": true
   },
   "outputs": [
    {
     "ename": "AttributeError",
     "evalue": "'list' object has no attribute 'split'",
     "output_type": "error",
     "traceback": [
      "\u001b[0;31m---------------------------------------------------------------------------\u001b[0m",
      "\u001b[0;31mAttributeError\u001b[0m                            Traceback (most recent call last)",
      "\u001b[0;32m<ipython-input-13-e2dd6d0548f9>\u001b[0m in \u001b[0;36m<module>\u001b[0;34m\u001b[0m\n\u001b[1;32m      1\u001b[0m \u001b[0;31m# convert the string of neighborhoods to a list\u001b[0m\u001b[0;34m\u001b[0m\u001b[0;34m\u001b[0m\u001b[0;34m\u001b[0m\u001b[0m\n\u001b[0;32m----> 2\u001b[0;31m \u001b[0mneighborhoods\u001b[0m \u001b[0;34m=\u001b[0m \u001b[0mlist\u001b[0m\u001b[0;34m(\u001b[0m\u001b[0mdata\u001b[0m\u001b[0;34m.\u001b[0m\u001b[0msplit\u001b[0m\u001b[0;34m(\u001b[0m\u001b[0;34m\", \"\u001b[0m\u001b[0;34m)\u001b[0m\u001b[0;34m)\u001b[0m\u001b[0;34m\u001b[0m\u001b[0;34m\u001b[0m\u001b[0m\n\u001b[0m\u001b[1;32m      3\u001b[0m \u001b[0mneighborhoods\u001b[0m\u001b[0;34m\u001b[0m\u001b[0;34m\u001b[0m\u001b[0m\n",
      "\u001b[0;31mAttributeError\u001b[0m: 'list' object has no attribute 'split'"
     ]
    }
   ],
   "source": [
    "# convert the string of neighborhoods to a list\n",
    "neighborhoods = list(data.split(\", \"))\n",
    "neighborhoods"
   ]
  },
  {
   "cell_type": "code",
   "execution_count": 14,
   "id": "7ed6a0c4",
   "metadata": {},
   "outputs": [
    {
     "ename": "ValueError",
     "evalue": "DataFrame constructor not properly called!",
     "output_type": "error",
     "traceback": [
      "\u001b[0;31m---------------------------------------------------------------------------\u001b[0m",
      "\u001b[0;31mValueError\u001b[0m                                Traceback (most recent call last)",
      "\u001b[0;32m<ipython-input-14-cc68975fd089>\u001b[0m in \u001b[0;36m<module>\u001b[0;34m\u001b[0m\n\u001b[1;32m      1\u001b[0m \u001b[0;31m# convert the list of neighborhoods to a dataframe\u001b[0m\u001b[0;34m\u001b[0m\u001b[0;34m\u001b[0m\u001b[0;34m\u001b[0m\u001b[0m\n\u001b[0;32m----> 2\u001b[0;31m \u001b[0mneighborhoods\u001b[0m \u001b[0;34m=\u001b[0m \u001b[0mpd\u001b[0m\u001b[0;34m.\u001b[0m\u001b[0mDataFrame\u001b[0m\u001b[0;34m(\u001b[0m\u001b[0mneighborhoods\u001b[0m\u001b[0;34m,\u001b[0m \u001b[0mcolumns\u001b[0m\u001b[0;34m=\u001b[0m\u001b[0;34m[\u001b[0m\u001b[0;34m'Neighborhoods'\u001b[0m\u001b[0;34m]\u001b[0m\u001b[0;34m)\u001b[0m\u001b[0;34m\u001b[0m\u001b[0;34m\u001b[0m\u001b[0m\n\u001b[0m\u001b[1;32m      3\u001b[0m \u001b[0mneighborhoods\u001b[0m\u001b[0;34m.\u001b[0m\u001b[0mhead\u001b[0m\u001b[0;34m(\u001b[0m\u001b[0;34m)\u001b[0m\u001b[0;34m\u001b[0m\u001b[0;34m\u001b[0m\u001b[0m\n",
      "\u001b[0;32m~/opt/anaconda3/lib/python3.8/site-packages/pandas/core/frame.py\u001b[0m in \u001b[0;36m__init__\u001b[0;34m(self, data, index, columns, dtype, copy)\u001b[0m\n\u001b[1;32m    588\u001b[0m         \u001b[0;32melse\u001b[0m\u001b[0;34m:\u001b[0m\u001b[0;34m\u001b[0m\u001b[0;34m\u001b[0m\u001b[0m\n\u001b[1;32m    589\u001b[0m             \u001b[0;32mif\u001b[0m \u001b[0mindex\u001b[0m \u001b[0;32mis\u001b[0m \u001b[0;32mNone\u001b[0m \u001b[0;32mor\u001b[0m \u001b[0mcolumns\u001b[0m \u001b[0;32mis\u001b[0m \u001b[0;32mNone\u001b[0m\u001b[0;34m:\u001b[0m\u001b[0;34m\u001b[0m\u001b[0;34m\u001b[0m\u001b[0m\n\u001b[0;32m--> 590\u001b[0;31m                 \u001b[0;32mraise\u001b[0m \u001b[0mValueError\u001b[0m\u001b[0;34m(\u001b[0m\u001b[0;34m\"DataFrame constructor not properly called!\"\u001b[0m\u001b[0;34m)\u001b[0m\u001b[0;34m\u001b[0m\u001b[0;34m\u001b[0m\u001b[0m\n\u001b[0m\u001b[1;32m    591\u001b[0m \u001b[0;34m\u001b[0m\u001b[0m\n\u001b[1;32m    592\u001b[0m             \u001b[0;32mif\u001b[0m \u001b[0;32mnot\u001b[0m \u001b[0mdtype\u001b[0m\u001b[0;34m:\u001b[0m\u001b[0;34m\u001b[0m\u001b[0;34m\u001b[0m\u001b[0m\n",
      "\u001b[0;31mValueError\u001b[0m: DataFrame constructor not properly called!"
     ]
    }
   ],
   "source": [
    "# convert the list of neighborhoods to a dataframe\n",
    "neighborhoods = pd.DataFrame(neighborhoods, columns=['Neighborhoods'])\n",
    "neighborhoods.head()"
   ]
  },
  {
   "cell_type": "code",
   "execution_count": null,
   "id": "c5619062",
   "metadata": {},
   "outputs": [],
   "source": []
  }
 ],
 "metadata": {
  "kernelspec": {
   "display_name": "Python 3",
   "language": "python",
   "name": "python3"
  },
  "language_info": {
   "codemirror_mode": {
    "name": "ipython",
    "version": 3
   },
   "file_extension": ".py",
   "mimetype": "text/x-python",
   "name": "python",
   "nbconvert_exporter": "python",
   "pygments_lexer": "ipython3",
   "version": "3.8.8"
  }
 },
 "nbformat": 4,
 "nbformat_minor": 5
}
