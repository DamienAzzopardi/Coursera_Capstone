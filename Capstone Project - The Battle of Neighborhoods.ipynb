{
 "cells": [
  {
   "cell_type": "markdown",
   "id": "7d264440",
   "metadata": {},
   "source": [
    "## IBM Data Science Professional Certificate\n",
    "### Capstone Project - The Battle of Neighborhoods\n",
    "\n",
    "Damien Azzopardi - July 2021"
   ]
  },
  {
   "cell_type": "markdown",
   "id": "b3cafbd9",
   "metadata": {},
   "source": [
    "<h2>Table of Contents</h2>\n",
    "<br>\n",
    "<ol>\n",
    "    <li><a href=\"introduction\"><b>Introduction</b></a>\n",
    "<br>\n",
    "<br>\n",
    "    <li><a href=\"data\"><b>Data</b></a></li>\n",
    "        <ul>\n",
    "            <li><a href=\"neighborhoods_and_coordinates\">Neighborhoods and coordinates</a>\n",
    "            <li><a href=\"districts\">Districts</a>    \n",
    "            <li><a href=\"venues\">Venues</a>     \n",
    "        </ul>\n",
    "<br>\n",
    "    <li><a href=\"data_manipulation\"><b>Data Extraction & Manipulation</b></a></li>\n",
    "        <ul>\n",
    "            <li><a href=\"scrap_neighborhoods\">Scrap Barcelona's neighborhoods and coordinates</a>\n",
    "            <li><a href=\"import_discticts\">Import Barcelona's districts</a>\n",
    "            <li><a href=\"map_neighborhoods\">Map Barcelona's neighborhoods</a>\n",
    "        </ul>"
   ]
  },
  {
   "cell_type": "markdown",
   "id": "a87dbacd",
   "metadata": {},
   "source": [
    "<h2 id=\"introduction\">Introduction</h2>"
   ]
  },
  {
   "cell_type": "markdown",
   "id": "feb5d4d6",
   "metadata": {},
   "source": [
    "**The Green Alternative** is a group of vegetarian restaurants, which started operating in Madrid, Spain, in 2010. We are currently running six different restaurants across different neighborhoods in Madrid, oriented towards locals. As our group is becoming successful in the spanish capital, this year, we would like to expand our operations and open a vegetarian restaurant in Barcelona.\n",
    "\n",
    "The question we are trying to answer is; **what is the best neighborhood to open a vegetarian restaurant in Barcelona?**\n",
    "\n",
    "After running a market research and looking into the data collected from our six current restaurants in Madrid, we found that our most successful locations are in neighborhoods which:\n",
    "- Are close to a **metro** or **train station**, where the flow of people is high.\n",
    "- Have a **park** or **garden** closeby, where our customers like to have lunch.\n",
    "- Have a **gym** closeby, as most of our customers come for lunch or dinner after training at the gym.\n",
    "\n",
    "Knowing this, we'll leverage the Foursquare location data in order to calculate the density of metro and train stations, parks, gardens, and gyms, for each neighborhood in Barcelona, and pick the one with higher density of selected venues to open our first vegetarian restaurant in the city of Barcelona."
   ]
  },
  {
   "cell_type": "markdown",
   "id": "a0ee3c96",
   "metadata": {},
   "source": [
    "<h2 id=\"data\">Data</h2>"
   ]
  },
  {
   "cell_type": "markdown",
   "id": "161030aa",
   "metadata": {},
   "source": [
    "The data we will be using to help us answer our question comes from the following sources."
   ]
  },
  {
   "cell_type": "markdown",
   "id": "fca889b0",
   "metadata": {},
   "source": [
    "<h3 id=\"neighborhoods_and_coordinates\">Neighborhoods ans coordinates</h3>\n",
    "\n",
    "<h4>Metabolism of Cities</h4>\n",
    "\n",
    "The full list of Barcelona's neighborhoods, along with their corresponding coordinates is available in [this](https://data.metabolismofcities.org/library/maps/577245/view/) page (*metabolismofcities.org*). It consists of a table with two rows, **Neighborhoods** and **Coordinates**. We will scrap the table containing the list of neighborhoods and coordinates directly in this workbook.\n",
    "\n",
    "\n",
    "<h3 id=\"districts\">Districts</h3>\n",
    "\n",
    "<h4>Wikipedia</h4>\n",
    "\n",
    "The full list of Barcelona's districts, along with their corresponding neirhborhoods is available in [this](https://en.wikipedia.org/wiki/Districts_of_Barcelona) page (*wikipedia.org*). We will export a CSV containing two rows, **Districts** and  **Neighborhoods**, that we will read directly in this workbook, and join it with the first dataset containing the **Neighborhoods** and **Coordinates**.\n",
    "\n",
    "\n",
    "<h3 id=\"venues\">Venues</h3>\n",
    "\n",
    "<h4>Foursquare</h4>\n",
    "\n",
    "We will leverage the Foursquare location data in order to calculate the density of the venues we have selected for the analysis. We will join it with the first two datasets containing the **District**, **Neighborhoods** and **Coordinates**."
   ]
  },
  {
   "cell_type": "markdown",
   "id": "24cf9898",
   "metadata": {},
   "source": [
    "<h2 id=\"data_manipulation\">Data Extraction & Manipulation</h2>"
   ]
  },
  {
   "cell_type": "code",
   "execution_count": 1,
   "id": "877fdfdb",
   "metadata": {},
   "outputs": [],
   "source": [
    "# load libraries\n",
    "import pandas as pd\n",
    "import numpy as np\n",
    "import requests\n",
    "from bs4 import BeautifulSoup\n",
    "#!conda install -c conda-forge geopy --yes\n",
    "from geopy.geocoders import Nominatim\n",
    "from pandas.io.json import json_normalize\n",
    "import matplotlib.cm as cm\n",
    "import matplotlib.colors as colors\n",
    "from sklearn.cluster import KMeans\n",
    "import folium"
   ]
  },
  {
   "cell_type": "markdown",
   "id": "dde73f2b",
   "metadata": {},
   "source": [
    "<h3 id=\"scrap_neighborhoods\">Scrap Barcelona's neighborhoods and coordinates</h3>"
   ]
  },
  {
   "cell_type": "markdown",
   "id": "99debdff",
   "metadata": {},
   "source": [
    "The full list of Barcelona's neighborhoods, along with their corresponding coordinates is available in [this](https://data.metabolismofcities.org/library/maps/577245/view/) page (*metabolismofcities.org*)."
   ]
  },
  {
   "cell_type": "code",
   "execution_count": 2,
   "id": "9a577922",
   "metadata": {},
   "outputs": [
    {
     "data": {
      "text/html": [
       "<div>\n",
       "<style scoped>\n",
       "    .dataframe tbody tr th:only-of-type {\n",
       "        vertical-align: middle;\n",
       "    }\n",
       "\n",
       "    .dataframe tbody tr th {\n",
       "        vertical-align: top;\n",
       "    }\n",
       "\n",
       "    .dataframe thead th {\n",
       "        text-align: right;\n",
       "    }\n",
       "</style>\n",
       "<table border=\"1\" class=\"dataframe\">\n",
       "  <thead>\n",
       "    <tr style=\"text-align: right;\">\n",
       "      <th></th>\n",
       "      <th>Neighborhood</th>\n",
       "      <th>Coordinates</th>\n",
       "    </tr>\n",
       "  </thead>\n",
       "  <tbody>\n",
       "    <tr>\n",
       "      <th>0</th>\n",
       "      <td>Baró de Viver</td>\n",
       "      <td>[41.44581467347341, 2.19899775842406]</td>\n",
       "    </tr>\n",
       "    <tr>\n",
       "      <th>1</th>\n",
       "      <td>Can Baró</td>\n",
       "      <td>[41.4167603624773, 2.1623865539676492]</td>\n",
       "    </tr>\n",
       "    <tr>\n",
       "      <th>2</th>\n",
       "      <td>Can Peguera</td>\n",
       "      <td>[41.43484212038238, 2.1664501320817235]</td>\n",
       "    </tr>\n",
       "    <tr>\n",
       "      <th>3</th>\n",
       "      <td>Canyelles</td>\n",
       "      <td>[41.445032990983854, 2.1634504252403164]</td>\n",
       "    </tr>\n",
       "    <tr>\n",
       "      <th>4</th>\n",
       "      <td>Ciutat Meridiana</td>\n",
       "      <td>[41.46120773644666, 2.1748476502321963]</td>\n",
       "    </tr>\n",
       "  </tbody>\n",
       "</table>\n",
       "</div>"
      ],
      "text/plain": [
       "       Neighborhood                               Coordinates\n",
       "0     Baró de Viver     [41.44581467347341, 2.19899775842406]\n",
       "1          Can Baró    [41.4167603624773, 2.1623865539676492]\n",
       "2       Can Peguera   [41.43484212038238, 2.1664501320817235]\n",
       "3         Canyelles  [41.445032990983854, 2.1634504252403164]\n",
       "4  Ciutat Meridiana   [41.46120773644666, 2.1748476502321963]"
      ]
     },
     "execution_count": 2,
     "metadata": {},
     "output_type": "execute_result"
    }
   ],
   "source": [
    "# scrap Barcelona's neighborhoods and coordinates table\n",
    "url = 'https://data.metabolismofcities.org/library/maps/577245/view/'\n",
    "\n",
    "r = requests.get(url)\n",
    "html = r.text\n",
    "\n",
    "soup = BeautifulSoup(html, 'lxml')\n",
    "table = soup.find('table')\n",
    "rows = table.find_all('tr')\n",
    "data = []\n",
    "for row in rows[1:]:\n",
    "    cols = row.find_all('td')\n",
    "    cols = [ele.text.strip() for ele in cols]\n",
    "    data.append([ele for ele in cols if ele])\n",
    "\n",
    "# convert to dataframe\n",
    "df = pd.DataFrame(data)\n",
    "\n",
    "# rename columns\n",
    "df.columns = ['Neighborhood', 'Coordinates']\n",
    "\n",
    "df.head()"
   ]
  },
  {
   "cell_type": "markdown",
   "id": "d68e3001",
   "metadata": {},
   "source": [
    "Split the 'Coordinates' column into two seperate 'Latitude' and 'Longitude' columns."
   ]
  },
  {
   "cell_type": "code",
   "execution_count": 3,
   "id": "be48aa0f",
   "metadata": {},
   "outputs": [
    {
     "data": {
      "text/html": [
       "<div>\n",
       "<style scoped>\n",
       "    .dataframe tbody tr th:only-of-type {\n",
       "        vertical-align: middle;\n",
       "    }\n",
       "\n",
       "    .dataframe tbody tr th {\n",
       "        vertical-align: top;\n",
       "    }\n",
       "\n",
       "    .dataframe thead th {\n",
       "        text-align: right;\n",
       "    }\n",
       "</style>\n",
       "<table border=\"1\" class=\"dataframe\">\n",
       "  <thead>\n",
       "    <tr style=\"text-align: right;\">\n",
       "      <th></th>\n",
       "      <th>Neighborhood</th>\n",
       "      <th>Latitude</th>\n",
       "      <th>Longitude</th>\n",
       "    </tr>\n",
       "  </thead>\n",
       "  <tbody>\n",
       "    <tr>\n",
       "      <th>0</th>\n",
       "      <td>Baró de Viver</td>\n",
       "      <td>[41.44581467347341</td>\n",
       "      <td>2.19899775842406]</td>\n",
       "    </tr>\n",
       "    <tr>\n",
       "      <th>1</th>\n",
       "      <td>Can Baró</td>\n",
       "      <td>[41.4167603624773</td>\n",
       "      <td>2.1623865539676492]</td>\n",
       "    </tr>\n",
       "    <tr>\n",
       "      <th>2</th>\n",
       "      <td>Can Peguera</td>\n",
       "      <td>[41.43484212038238</td>\n",
       "      <td>2.1664501320817235]</td>\n",
       "    </tr>\n",
       "    <tr>\n",
       "      <th>3</th>\n",
       "      <td>Canyelles</td>\n",
       "      <td>[41.445032990983854</td>\n",
       "      <td>2.1634504252403164]</td>\n",
       "    </tr>\n",
       "    <tr>\n",
       "      <th>4</th>\n",
       "      <td>Ciutat Meridiana</td>\n",
       "      <td>[41.46120773644666</td>\n",
       "      <td>2.1748476502321963]</td>\n",
       "    </tr>\n",
       "  </tbody>\n",
       "</table>\n",
       "</div>"
      ],
      "text/plain": [
       "       Neighborhood             Latitude            Longitude\n",
       "0     Baró de Viver   [41.44581467347341    2.19899775842406]\n",
       "1          Can Baró    [41.4167603624773  2.1623865539676492]\n",
       "2       Can Peguera   [41.43484212038238  2.1664501320817235]\n",
       "3         Canyelles  [41.445032990983854  2.1634504252403164]\n",
       "4  Ciutat Meridiana   [41.46120773644666  2.1748476502321963]"
      ]
     },
     "execution_count": 3,
     "metadata": {},
     "output_type": "execute_result"
    }
   ],
   "source": [
    "# split the 'Coordinates' column\n",
    "df[['Latitude','Longitude']] = df.Coordinates.str.split(', ', expand = True)\n",
    "\n",
    "# drop the 'Coordinates' column\n",
    "df_bcn_neighborhoods = df.drop(['Coordinates'], axis = 1)\n",
    "\n",
    "df_bcn_neighborhoods.head()"
   ]
  },
  {
   "cell_type": "markdown",
   "id": "81b4162b",
   "metadata": {},
   "source": [
    "Remove the special characters in the 'Latitude' and 'Longitude' columns and check the colummns type."
   ]
  },
  {
   "cell_type": "code",
   "execution_count": 4,
   "id": "61574f9d",
   "metadata": {},
   "outputs": [
    {
     "data": {
      "text/plain": [
       "Neighborhood    object\n",
       "Latitude        object\n",
       "Longitude       object\n",
       "dtype: object"
      ]
     },
     "execution_count": 4,
     "metadata": {},
     "output_type": "execute_result"
    }
   ],
   "source": [
    "# special characters to remove from the dataframe\n",
    "spec_chars = [\"[\",\"]\"]\n",
    "\n",
    "# removing special characters from the 'Latitude' column\n",
    "for char in spec_chars:\n",
    "    df_bcn_neighborhoods['Latitude'] = df_bcn_neighborhoods['Latitude'].str.replace(char,'', regex=True)\n",
    "\n",
    "# removing special characters from the 'Longitude' column\n",
    "for char in spec_chars:\n",
    "    df_bcn_neighborhoods['Longitude'] = df_bcn_neighborhoods['Longitude'].str.replace(char,'', regex=True)\n",
    "\n",
    "# check column type\n",
    "df_bcn_neighborhoods.dtypes"
   ]
  },
  {
   "cell_type": "markdown",
   "id": "fbaf017a",
   "metadata": {},
   "source": [
    "Modify the 'Latitude' and 'Longitude' columns type to **float** so they can be properly properly used forward."
   ]
  },
  {
   "cell_type": "code",
   "execution_count": 5,
   "id": "797c795c",
   "metadata": {},
   "outputs": [
    {
     "data": {
      "text/plain": [
       "Neighborhood     object\n",
       "Latitude        float64\n",
       "Longitude       float64\n",
       "dtype: object"
      ]
     },
     "execution_count": 5,
     "metadata": {},
     "output_type": "execute_result"
    }
   ],
   "source": [
    "# change column type \n",
    "df_bcn_neighborhoods = df_bcn_neighborhoods.astype({\"Neighborhood\": str, \"Latitude\": float, \"Longitude\": float})\n",
    "\n",
    "# check column type\n",
    "df_bcn_neighborhoods.dtypes"
   ]
  },
  {
   "cell_type": "markdown",
   "id": "f154d9b9",
   "metadata": {},
   "source": [
    "Check the final dataset containing each neighborhood along with its corresponding latitude and longitude."
   ]
  },
  {
   "cell_type": "code",
   "execution_count": 6,
   "id": "947fef6b",
   "metadata": {},
   "outputs": [
    {
     "data": {
      "text/html": [
       "<div>\n",
       "<style scoped>\n",
       "    .dataframe tbody tr th:only-of-type {\n",
       "        vertical-align: middle;\n",
       "    }\n",
       "\n",
       "    .dataframe tbody tr th {\n",
       "        vertical-align: top;\n",
       "    }\n",
       "\n",
       "    .dataframe thead th {\n",
       "        text-align: right;\n",
       "    }\n",
       "</style>\n",
       "<table border=\"1\" class=\"dataframe\">\n",
       "  <thead>\n",
       "    <tr style=\"text-align: right;\">\n",
       "      <th></th>\n",
       "      <th>Neighborhood</th>\n",
       "      <th>Latitude</th>\n",
       "      <th>Longitude</th>\n",
       "    </tr>\n",
       "  </thead>\n",
       "  <tbody>\n",
       "    <tr>\n",
       "      <th>0</th>\n",
       "      <td>Baró de Viver</td>\n",
       "      <td>41.445815</td>\n",
       "      <td>2.198998</td>\n",
       "    </tr>\n",
       "    <tr>\n",
       "      <th>1</th>\n",
       "      <td>Can Baró</td>\n",
       "      <td>41.416760</td>\n",
       "      <td>2.162387</td>\n",
       "    </tr>\n",
       "    <tr>\n",
       "      <th>2</th>\n",
       "      <td>Can Peguera</td>\n",
       "      <td>41.434842</td>\n",
       "      <td>2.166450</td>\n",
       "    </tr>\n",
       "    <tr>\n",
       "      <th>3</th>\n",
       "      <td>Canyelles</td>\n",
       "      <td>41.445033</td>\n",
       "      <td>2.163450</td>\n",
       "    </tr>\n",
       "    <tr>\n",
       "      <th>4</th>\n",
       "      <td>Ciutat Meridiana</td>\n",
       "      <td>41.461208</td>\n",
       "      <td>2.174848</td>\n",
       "    </tr>\n",
       "  </tbody>\n",
       "</table>\n",
       "</div>"
      ],
      "text/plain": [
       "       Neighborhood   Latitude  Longitude\n",
       "0     Baró de Viver  41.445815   2.198998\n",
       "1          Can Baró  41.416760   2.162387\n",
       "2       Can Peguera  41.434842   2.166450\n",
       "3         Canyelles  41.445033   2.163450\n",
       "4  Ciutat Meridiana  41.461208   2.174848"
      ]
     },
     "execution_count": 6,
     "metadata": {},
     "output_type": "execute_result"
    }
   ],
   "source": [
    "df_bcn_neighborhoods.head()"
   ]
  },
  {
   "cell_type": "markdown",
   "id": "b5b5a870",
   "metadata": {},
   "source": [
    "<h3 id=\"import_discticts\">Import Barcelona's districts</h3>"
   ]
  },
  {
   "cell_type": "markdown",
   "id": "30b4676f",
   "metadata": {},
   "source": [
    "The full list of Barcelona's districts, along with their corresponding neirhborhoods is available in [this](https://en.wikipedia.org/wiki/Districts_of_Barcelona) page (*wikipedia.org*)."
   ]
  },
  {
   "cell_type": "code",
   "execution_count": 7,
   "id": "f099be8f",
   "metadata": {},
   "outputs": [
    {
     "data": {
      "text/html": [
       "<div>\n",
       "<style scoped>\n",
       "    .dataframe tbody tr th:only-of-type {\n",
       "        vertical-align: middle;\n",
       "    }\n",
       "\n",
       "    .dataframe tbody tr th {\n",
       "        vertical-align: top;\n",
       "    }\n",
       "\n",
       "    .dataframe thead th {\n",
       "        text-align: right;\n",
       "    }\n",
       "</style>\n",
       "<table border=\"1\" class=\"dataframe\">\n",
       "  <thead>\n",
       "    <tr style=\"text-align: right;\">\n",
       "      <th></th>\n",
       "      <th>Neighborhoods</th>\n",
       "      <th>District</th>\n",
       "    </tr>\n",
       "  </thead>\n",
       "  <tbody>\n",
       "    <tr>\n",
       "      <th>0</th>\n",
       "      <td>Baró de Viver</td>\n",
       "      <td>Sant Andreu</td>\n",
       "    </tr>\n",
       "    <tr>\n",
       "      <th>1</th>\n",
       "      <td>Can Baró</td>\n",
       "      <td>Horta-Guinardó</td>\n",
       "    </tr>\n",
       "    <tr>\n",
       "      <th>2</th>\n",
       "      <td>Can Peguera</td>\n",
       "      <td>Nou Barris</td>\n",
       "    </tr>\n",
       "    <tr>\n",
       "      <th>3</th>\n",
       "      <td>Canyelles</td>\n",
       "      <td>Nou Barris</td>\n",
       "    </tr>\n",
       "    <tr>\n",
       "      <th>4</th>\n",
       "      <td>Ciutat Meridiana</td>\n",
       "      <td>Nou Barris</td>\n",
       "    </tr>\n",
       "  </tbody>\n",
       "</table>\n",
       "</div>"
      ],
      "text/plain": [
       "      Neighborhoods        District\n",
       "0     Baró de Viver     Sant Andreu\n",
       "1          Can Baró  Horta-Guinardó\n",
       "2       Can Peguera      Nou Barris\n",
       "3         Canyelles      Nou Barris\n",
       "4  Ciutat Meridiana      Nou Barris"
      ]
     },
     "execution_count": 7,
     "metadata": {},
     "output_type": "execute_result"
    }
   ],
   "source": [
    "# import dataset with Districts\n",
    "df_bcn_districts = pd.read_csv(\"/Users/damienazzopardi/Documents/GitHub/Coursera_Capstone/Districts_Barcelona.csv\")\n",
    "\n",
    "df_bcn_districts.head()"
   ]
  },
  {
   "cell_type": "markdown",
   "id": "68729df8",
   "metadata": {},
   "source": [
    "Merge both datasets containing neighborhoods, coordinates and districts together."
   ]
  },
  {
   "cell_type": "code",
   "execution_count": 8,
   "id": "59660569",
   "metadata": {},
   "outputs": [
    {
     "data": {
      "text/html": [
       "<div>\n",
       "<style scoped>\n",
       "    .dataframe tbody tr th:only-of-type {\n",
       "        vertical-align: middle;\n",
       "    }\n",
       "\n",
       "    .dataframe tbody tr th {\n",
       "        vertical-align: top;\n",
       "    }\n",
       "\n",
       "    .dataframe thead th {\n",
       "        text-align: right;\n",
       "    }\n",
       "</style>\n",
       "<table border=\"1\" class=\"dataframe\">\n",
       "  <thead>\n",
       "    <tr style=\"text-align: right;\">\n",
       "      <th></th>\n",
       "      <th>Neighborhood</th>\n",
       "      <th>Latitude</th>\n",
       "      <th>Longitude</th>\n",
       "      <th>District</th>\n",
       "    </tr>\n",
       "  </thead>\n",
       "  <tbody>\n",
       "    <tr>\n",
       "      <th>0</th>\n",
       "      <td>Baró de Viver</td>\n",
       "      <td>41.445815</td>\n",
       "      <td>2.198998</td>\n",
       "      <td>Sant Andreu</td>\n",
       "    </tr>\n",
       "    <tr>\n",
       "      <th>1</th>\n",
       "      <td>Can Baró</td>\n",
       "      <td>41.416760</td>\n",
       "      <td>2.162387</td>\n",
       "      <td>Horta-Guinardó</td>\n",
       "    </tr>\n",
       "    <tr>\n",
       "      <th>2</th>\n",
       "      <td>Can Peguera</td>\n",
       "      <td>41.434842</td>\n",
       "      <td>2.166450</td>\n",
       "      <td>Nou Barris</td>\n",
       "    </tr>\n",
       "    <tr>\n",
       "      <th>3</th>\n",
       "      <td>Canyelles</td>\n",
       "      <td>41.445033</td>\n",
       "      <td>2.163450</td>\n",
       "      <td>Nou Barris</td>\n",
       "    </tr>\n",
       "    <tr>\n",
       "      <th>4</th>\n",
       "      <td>Ciutat Meridiana</td>\n",
       "      <td>41.461208</td>\n",
       "      <td>2.174848</td>\n",
       "      <td>Nou Barris</td>\n",
       "    </tr>\n",
       "  </tbody>\n",
       "</table>\n",
       "</div>"
      ],
      "text/plain": [
       "       Neighborhood   Latitude  Longitude        District\n",
       "0     Baró de Viver  41.445815   2.198998     Sant Andreu\n",
       "1          Can Baró  41.416760   2.162387  Horta-Guinardó\n",
       "2       Can Peguera  41.434842   2.166450      Nou Barris\n",
       "3         Canyelles  41.445033   2.163450      Nou Barris\n",
       "4  Ciutat Meridiana  41.461208   2.174848      Nou Barris"
      ]
     },
     "execution_count": 8,
     "metadata": {},
     "output_type": "execute_result"
    }
   ],
   "source": [
    "# merge both dataframes into one\n",
    "df_bcn = pd.merge(df_bcn_neighborhoods, df_bcn_districts, how = 'left', left_on = 'Neighborhood', right_on = 'Neighborhoods')\n",
    "df_bcn.drop(\"Neighborhoods\", axis = 1, inplace = True)\n",
    "\n",
    "df_bcn.head()"
   ]
  },
  {
   "cell_type": "markdown",
   "id": "d39e4573",
   "metadata": {},
   "source": [
    "<h3 id=\"map_neighborhoods\">Map Barcelona's neighborhoods</h3>"
   ]
  },
  {
   "cell_type": "markdown",
   "id": "ab08d87f",
   "metadata": {},
   "source": [
    "Define an instance of the geocoder for Barcelona."
   ]
  },
  {
   "cell_type": "code",
   "execution_count": 9,
   "id": "4cde21bd",
   "metadata": {},
   "outputs": [
    {
     "name": "stdout",
     "output_type": "stream",
     "text": [
      "The geograpical coordinate of Barcelona are 41.3828939, 2.1774322.\n"
     ]
    }
   ],
   "source": [
    "address = 'Barcelona, Spain'\n",
    "geolocator = Nominatim(user_agent=\"barcelona_explorer\")\n",
    "location = geolocator.geocode(address)\n",
    "latitude = location.latitude\n",
    "longitude = location.longitude\n",
    "\n",
    "print('The geograpical coordinate of Barcelona are {}, {}.'.format(latitude, longitude))"
   ]
  },
  {
   "cell_type": "markdown",
   "id": "a584701d",
   "metadata": {},
   "source": [
    "Create a map of Barcelona with neighborhoods superimposed on top."
   ]
  },
  {
   "cell_type": "code",
   "execution_count": 18,
   "id": "dea15d9c",
   "metadata": {},
   "outputs": [
    {
     "data": {
      "text/html": [
       "<div style=\"width:100%;\"><div style=\"position:relative;width:100%;height:0;padding-bottom:60%;\"><iframe src=\"data:text/html;charset=utf-8;base64,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\" style=\"position:absolute;width:100%;height:100%;left:0;top:0;border:none !important;\" allowfullscreen webkitallowfullscreen mozallowfullscreen></iframe></div></div>"
      ],
      "text/plain": [
       "<folium.folium.Map at 0x7fcd2e9482b0>"
      ]
     },
     "execution_count": 18,
     "metadata": {},
     "output_type": "execute_result"
    }
   ],
   "source": [
    "# create map of Barcelona using latitude and longitude values\n",
    "map_bcn = folium.Map(location=[latitude, longitude], tiles=\"Stamen Terrain\", zoom_start=12)\n",
    "\n",
    "# add neighborhoods markers to map\n",
    "for lat, lng, district, neighborhoods in zip(df_bcn['Latitude'], df_bcn['Longitude'], df_bcn['District'], df_bcn['Neighborhood']):\n",
    "    label = '{}, {}'.format(neighborhoods, district)\n",
    "    label = folium.Popup(label, parse_html=True)\n",
    "    folium.CircleMarker(\n",
    "        [lat, lng],\n",
    "        radius=5,\n",
    "        popup=label,\n",
    "        color='blue',\n",
    "        fill=True,\n",
    "        fill_color='#3186cc',\n",
    "        fill_opacity=0.7,\n",
    "        parse_html=False).add_to(map_bcn)  \n",
    "    \n",
    "map_bcn"
   ]
  },
  {
   "cell_type": "code",
   "execution_count": null,
   "id": "43eb35c6",
   "metadata": {},
   "outputs": [],
   "source": []
  }
 ],
 "metadata": {
  "kernelspec": {
   "display_name": "Python 3",
   "language": "python",
   "name": "python3"
  },
  "language_info": {
   "codemirror_mode": {
    "name": "ipython",
    "version": 3
   },
   "file_extension": ".py",
   "mimetype": "text/x-python",
   "name": "python",
   "nbconvert_exporter": "python",
   "pygments_lexer": "ipython3",
   "version": "3.8.8"
  }
 },
 "nbformat": 4,
 "nbformat_minor": 5
}
